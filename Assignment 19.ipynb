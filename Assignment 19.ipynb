{
 "cells": [
  {
   "cell_type": "markdown",
   "metadata": {},
   "source": [
    "### Imbalanced Classification Improvement of Undersampling"
   ]
  },
  {
   "cell_type": "code",
   "execution_count": 4,
   "metadata": {},
   "outputs": [
    {
     "name": "stderr",
     "output_type": "stream",
     "text": [
      "Loading required package: lattice\n",
      "Loading required package: ggplot2\n"
     ]
    }
   ],
   "source": [
    "library(caret)\n",
    "library(ranger)"
   ]
  },
  {
   "cell_type": "markdown",
   "metadata": {},
   "source": [
    "Reading in the data"
   ]
  },
  {
   "cell_type": "code",
   "execution_count": 9,
   "metadata": {},
   "outputs": [],
   "source": [
    "hmeq = read.csv('hmeq.csv')\n",
    "hmeq$BAD=as.factor(hmeq$BAD)\n",
    "hmeq[hmeq=='']=NA\n",
    "hmeq_complete=hmeq[complete.cases(hmeq),]\n",
    "\n",
    "names(hmeq_complete)[1]='target'\n",
    "\n",
    "set.seed(2018)\n",
    "splitIndex=createDataPartition(hmeq_complete$target, p=.70, list=FALSE, times=1)\n",
    "train=hmeq_complete[splitIndex,]\n",
    "test=hmeq_complete[-splitIndex,]"
   ]
  },
  {
   "cell_type": "markdown",
   "metadata": {},
   "source": [
    "Training a random forest using undersampling"
   ]
  },
  {
   "cell_type": "code",
   "execution_count": 10,
   "metadata": {},
   "outputs": [
    {
     "data": {
      "text/plain": [
       "\n",
       "  0   1 \n",
       "  0 210 "
      ]
     },
     "metadata": {},
     "output_type": "display_data"
    },
    {
     "data": {
      "text/plain": [
       "\n",
       "   0    1 \n",
       "2145    0 "
      ]
     },
     "metadata": {},
     "output_type": "display_data"
    },
    {
     "name": "stdout",
     "output_type": "stream",
     "text": [
      "Balanced Accuracy \n",
      "         0.826466 \n"
     ]
    }
   ],
   "source": [
    "train1=train[train[,'target']==\"1\",]\n",
    "n1=nrow(train1)\n",
    "table(train1$target)\n",
    "  \n",
    "train0=train[train[,'target']==\"0\",]\n",
    "n0=nrow(train0)\n",
    "table(train0$target)\n",
    "\n",
    "train00=train0[sample(1:n0,n1),]\n",
    "train_under=rbind(train00,train1)\n",
    "\n",
    "rf1=ranger(target~.,data=train_under)\n",
    "pred_under=predict(rf1,data=test)$predictions\n",
    "cm_under=confusionMatrix(pred_under,test$target,positive=\"1\")\n",
    "print(cm_under$byClass['Balanced Accuracy'])"
   ]
  },
  {
   "cell_type": "markdown",
   "metadata": {},
   "source": [
    "Running multiple forests on different undersamples of the data to get an improved balanced accuracy"
   ]
  },
  {
   "cell_type": "code",
   "execution_count": 13,
   "metadata": {},
   "outputs": [
    {
     "name": "stdout",
     "output_type": "stream",
     "text": [
      "Balanced Accuracy \n",
      "        0.8371176 \n"
     ]
    }
   ],
   "source": [
    "mc=matrix(,nrow=nrow(test),ncol=0)\n",
    "for (i in 1:100){\n",
    "  train00=train0[sample(1:n0,n1),]\n",
    "  train_d=rbind(train00,train1)\n",
    "  \n",
    "  model=ranger(target~.,data=train_d)\n",
    "  pred=predict(model,data=test)$predictions\n",
    "  mc=cbind(mc,pred)\n",
    "}\n",
    "mc=mc-1\n",
    "mc=cbind(mc,vote=(round(rowMeans(mc[,1:ncol(mc)]),0)))\n",
    "\n",
    "cm=confusionMatrix(factor(mc[,\"vote\"]),test$target,positive=\"1\")\n",
    "print(cm$byClass['Balanced Accuracy'])\n"
   ]
  },
  {
   "cell_type": "code",
   "execution_count": null,
   "metadata": {},
   "outputs": [],
   "source": []
  }
 ],
 "metadata": {
  "kernelspec": {
   "display_name": "R",
   "language": "R",
   "name": "ir"
  },
  "language_info": {
   "codemirror_mode": "r",
   "file_extension": ".r",
   "mimetype": "text/x-r-source",
   "name": "R",
   "pygments_lexer": "r",
   "version": "3.5.1"
  }
 },
 "nbformat": 4,
 "nbformat_minor": 2
}
