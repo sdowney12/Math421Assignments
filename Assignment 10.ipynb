{
 "cells": [
  {
   "cell_type": "markdown",
   "metadata": {},
   "source": [
    "I began my program by loading in all of the packages that I will need for the entire assignment"
   ]
  },
  {
   "cell_type": "code",
   "execution_count": 1,
   "metadata": {},
   "outputs": [
    {
     "name": "stderr",
     "output_type": "stream",
     "text": [
      "Loading required package: lattice\n",
      "Loading required package: ggplot2\n",
      "Rattle: A free graphical interface for data science with R.\n",
      "Version 5.2.0 Copyright (c) 2006-2018 Togaware Pty Ltd.\n",
      "Type 'rattle()' to shake, rattle, and roll your data.\n"
     ]
    }
   ],
   "source": [
    "library(caret)\n",
    "library(ggplot2)\n",
    "library(rpart)\n",
    "library(rattle)\n",
    "library(e1071)"
   ]
  },
  {
   "cell_type": "markdown",
   "metadata": {},
   "source": [
    "Import the adult data set to Rstudio setting the header = FALSE so that the first rows does not turn in to variable names.  "
   ]
  },
  {
   "cell_type": "code",
   "execution_count": 2,
   "metadata": {},
   "outputs": [],
   "source": [
    "df = read.csv('adult.csv', header = FALSE)"
   ]
  },
  {
   "cell_type": "markdown",
   "metadata": {},
   "source": [
    "Change the variables' names to the appropriate ones.  I used function names(df) to access the variables names."
   ]
  },
  {
   "cell_type": "code",
   "execution_count": 3,
   "metadata": {},
   "outputs": [
    {
     "data": {
      "text/html": [
       "<ol class=list-inline>\n",
       "\t<li>'age'</li>\n",
       "\t<li>'workclass'</li>\n",
       "\t<li>'fnlwgt'</li>\n",
       "\t<li>'education'</li>\n",
       "\t<li>'education_num'</li>\n",
       "\t<li>'marital_status'</li>\n",
       "\t<li>'occupation'</li>\n",
       "\t<li>'relationship'</li>\n",
       "\t<li>'race'</li>\n",
       "\t<li>'sex'</li>\n",
       "\t<li>'capital_gain'</li>\n",
       "\t<li>'capital_loss'</li>\n",
       "\t<li>'hours_per_week'</li>\n",
       "\t<li>'native_country'</li>\n",
       "\t<li>'target'</li>\n",
       "</ol>\n"
      ],
      "text/latex": [
       "\\begin{enumerate*}\n",
       "\\item 'age'\n",
       "\\item 'workclass'\n",
       "\\item 'fnlwgt'\n",
       "\\item 'education'\n",
       "\\item 'education\\_num'\n",
       "\\item 'marital\\_status'\n",
       "\\item 'occupation'\n",
       "\\item 'relationship'\n",
       "\\item 'race'\n",
       "\\item 'sex'\n",
       "\\item 'capital\\_gain'\n",
       "\\item 'capital\\_loss'\n",
       "\\item 'hours\\_per\\_week'\n",
       "\\item 'native\\_country'\n",
       "\\item 'target'\n",
       "\\end{enumerate*}\n"
      ],
      "text/markdown": [
       "1. 'age'\n",
       "2. 'workclass'\n",
       "3. 'fnlwgt'\n",
       "4. 'education'\n",
       "5. 'education_num'\n",
       "6. 'marital_status'\n",
       "7. 'occupation'\n",
       "8. 'relationship'\n",
       "9. 'race'\n",
       "10. 'sex'\n",
       "11. 'capital_gain'\n",
       "12. 'capital_loss'\n",
       "13. 'hours_per_week'\n",
       "14. 'native_country'\n",
       "15. 'target'\n",
       "\n",
       "\n"
      ],
      "text/plain": [
       " [1] \"age\"            \"workclass\"      \"fnlwgt\"         \"education\"     \n",
       " [5] \"education_num\"  \"marital_status\" \"occupation\"     \"relationship\"  \n",
       " [9] \"race\"           \"sex\"            \"capital_gain\"   \"capital_loss\"  \n",
       "[13] \"hours_per_week\" \"native_country\" \"target\"        "
      ]
     },
     "metadata": {},
     "output_type": "display_data"
    }
   ],
   "source": [
    "names(df)[1]='age'\n",
    "names(df)[2]='workclass'\n",
    "names(df)[3]='fnlwgt'\n",
    "names(df)[4]='education'\n",
    "names(df)[5]='education_num'\n",
    "names(df)[6]='marital_status'\n",
    "names(df)[7]='occupation'\n",
    "names(df)[8]='relationship'\n",
    "names(df)[9]='race'\n",
    "names(df)[10]='sex'\n",
    "names(df)[11]='capital_gain'\n",
    "names(df)[12]='capital_loss'\n",
    "names(df)[13]='hours_per_week'\n",
    "names(df)[14]='native_country'\n",
    "names(df)[15]='target'\n",
    "names(df)"
   ]
  },
  {
   "cell_type": "markdown",
   "metadata": {},
   "source": [
    "Identify all the missing values.  Notice that missing values can be in the form of \"NA\", \"?\", \".\" and so on "
   ]
  },
  {
   "cell_type": "code",
   "execution_count": 4,
   "metadata": {},
   "outputs": [
    {
     "name": "stdout",
     "output_type": "stream",
     "text": [
      "'data.frame':\t32561 obs. of  15 variables:\n",
      " $ age           : int  39 50 38 53 28 37 49 52 31 42 ...\n",
      " $ workclass     : Factor w/ 9 levels \" ?\",\" Federal-gov\",..: 8 7 5 5 5 5 5 7 5 5 ...\n",
      " $ fnlwgt        : int  77516 83311 215646 234721 338409 284582 160187 209642 45781 159449 ...\n",
      " $ education     : Factor w/ 16 levels \" 10th\",\" 11th\",..: 10 10 12 2 10 13 7 12 13 10 ...\n",
      " $ education_num : int  13 13 9 7 13 14 5 9 14 13 ...\n",
      " $ marital_status: Factor w/ 7 levels \" Divorced\",\" Married-AF-spouse\",..: 5 3 1 3 3 3 4 3 5 3 ...\n",
      " $ occupation    : Factor w/ 15 levels \" ?\",\" Adm-clerical\",..: 2 5 7 7 11 5 9 5 11 5 ...\n",
      " $ relationship  : Factor w/ 6 levels \" Husband\",\" Not-in-family\",..: 2 1 2 1 6 6 2 1 2 1 ...\n",
      " $ race          : Factor w/ 5 levels \" Amer-Indian-Eskimo\",..: 5 5 5 3 3 5 3 5 5 5 ...\n",
      " $ sex           : Factor w/ 2 levels \" Female\",\" Male\": 2 2 2 2 1 1 1 2 1 2 ...\n",
      " $ capital_gain  : int  2174 0 0 0 0 0 0 0 14084 5178 ...\n",
      " $ capital_loss  : int  0 0 0 0 0 0 0 0 0 0 ...\n",
      " $ hours_per_week: int  40 13 40 40 40 40 16 45 50 40 ...\n",
      " $ native_country: Factor w/ 42 levels \" ?\",\" Cambodia\",..: 40 40 40 40 6 40 24 40 40 40 ...\n",
      " $ target        : Factor w/ 2 levels \" <=50K\",\" >50K\": 1 1 1 1 1 1 1 2 2 2 ...\n"
     ]
    }
   ],
   "source": [
    "str(df)\n",
    "df[df==' ?']=NA"
   ]
  },
  {
   "cell_type": "markdown",
   "metadata": {},
   "source": [
    "Replacing numeric missing values by the mean of the corresponding variables, and categorical missing values by the mode of the corresponding variables. "
   ]
  },
  {
   "cell_type": "code",
   "execution_count": 5,
   "metadata": {},
   "outputs": [
    {
     "data": {
      "text/html": [
       "0"
      ],
      "text/latex": [
       "0"
      ],
      "text/markdown": [
       "0"
      ],
      "text/plain": [
       "[1] 0"
      ]
     },
     "metadata": {},
     "output_type": "display_data"
    }
   ],
   "source": [
    "mode=function(x) {\n",
    "  levels=unique(x)\n",
    "  return(levels[which.max(tabulate(match(x, levels)))])\n",
    "}\n",
    "num_miss=preProcess(df, method='medianImpute')\n",
    "df=predict(num_miss, newdata = df)\n",
    "df[is.na(df$workclass),]$workclass=mode(df$workclass)\n",
    "df[is.na(df$occupation),]$occupation=mode(df$occupation)\n",
    "df[is.na(df$native_country),]$native_country=mode(df$native_country)\n",
    "sum(is.na(df))"
   ]
  },
  {
   "cell_type": "markdown",
   "metadata": {},
   "source": [
    "Performed data visualization on the data, includning:\n",
    "-\tBar charts of two categorical variables\n",
    "-\tDensity curves of numeric variables on the categories of categorical variables.  For example: plotting density curves of Age on female and male."
   ]
  },
  {
   "cell_type": "code",
   "execution_count": 6,
   "metadata": {},
   "outputs": [
    {
     "data": {},
     "metadata": {},
     "output_type": "display_data"
    },
    {
     "data": {},
     "metadata": {},
     "output_type": "display_data"
    },
    {
     "data": {
      "image/png": "[encoded data removed]",
      "text/plain": [
       "plot without title"
      ]
     },
     "metadata": {},
     "output_type": "display_data",
     "source": "R display func"
    },
    {
     "data": {},
     "metadata": {},
     "output_type": "display_data"
    },
    {
     "data": {
      "image/png": "[encoded data removed]",
      "text/plain": [
       "plot without title"
      ]
     },
     "metadata": {},
     "output_type": "display_data",
     "source": "R display func"
    },
    {
     "data": {},
     "metadata": {},
     "output_type": "display_data"
    },
    {
     "data": {
      "image/png": "[encoded data removed]",
      "text/plain": [
       "plot without title"
      ]
     },
     "metadata": {},
     "output_type": "display_data",
     "source": "R display func"
    },
    {
     "data": {
      "image/png": "[encoded data removed]",
      "text/plain": [
       "plot without title"
      ]
     },
     "metadata": {},
     "output_type": "display_data",
     "source": "R display func"
    }
   ],
   "source": [
    "ggplot(data=df)+geom_bar(mapping=aes(x=relationship,fill=sex),position=\"dodge\")\n",
    "ggplot(data=df)+geom_bar(mapping=aes(x=sex,fill=race),position=\"dodge\")\n",
    "ggplot(data=df)+geom_density(mapping=aes(x=age, color=workclass))\n",
    "ggplot(data=df)+geom_density(mapping=aes(x=age, color=race))"
   ]
  },
  {
   "cell_type": "markdown",
   "metadata": {},
   "source": [
    "Partition the data into training and testing data with ratio train : test = 60 : 40"
   ]
  },
  {
   "cell_type": "code",
   "execution_count": 7,
   "metadata": {},
   "outputs": [],
   "source": [
    "split=createDataPartition(df$target, p=.60, list=FALSE, times=1)\n",
    "train=df[split,]\n",
    "test=df[-split,]"
   ]
  },
  {
   "cell_type": "markdown",
   "metadata": {},
   "source": [
    "Build a decision tree model on the training data and test the model on the testing data"
   ]
  },
  {
   "cell_type": "code",
   "execution_count": 8,
   "metadata": {},
   "outputs": [],
   "source": [
    "mytree=rpart(target ~., data=train, method=\"class\")\n",
    "pred=predict(mytree,test,type=\"class\")"
   ]
  },
  {
   "cell_type": "markdown",
   "metadata": {},
   "source": [
    "Report the misclassification rate and confusion table of the tree model"
   ]
  },
  {
   "cell_type": "code",
   "execution_count": 9,
   "metadata": {},
   "outputs": [
    {
     "data": {
      "text/plain": [
       "Confusion Matrix and Statistics\n",
       "\n",
       "          Reference\n",
       "Prediction  <=50K  >50K\n",
       "     <=50K   9402  1528\n",
       "     >50K     486  1608\n",
       "                                         \n",
       "               Accuracy : 0.8454         \n",
       "                 95% CI : (0.839, 0.8515)\n",
       "    No Information Rate : 0.7592         \n",
       "    P-Value [Acc > NIR] : < 2.2e-16      \n",
       "                                         \n",
       "                  Kappa : 0.5229         \n",
       " Mcnemar's Test P-Value : < 2.2e-16      \n",
       "                                         \n",
       "            Sensitivity : 0.5128         \n",
       "            Specificity : 0.9508         \n",
       "         Pos Pred Value : 0.7679         \n",
       "         Neg Pred Value : 0.8602         \n",
       "             Prevalence : 0.2408         \n",
       "         Detection Rate : 0.1235         \n",
       "   Detection Prevalence : 0.1608         \n",
       "      Balanced Accuracy : 0.7318         \n",
       "                                         \n",
       "       'Positive' Class :  >50K          \n",
       "                                         "
      ]
     },
     "metadata": {},
     "output_type": "display_data"
    }
   ],
   "source": [
    "cm=confusionMatrix(data=pred ,reference=test$target, positive=\" >50K\")\n",
    "cm"
   ]
  },
  {
   "cell_type": "markdown",
   "metadata": {},
   "source": [
    "Print out the tree"
   ]
  },
  {
   "cell_type": "code",
   "execution_count": 10,
   "metadata": {},
   "outputs": [
    {
     "data": {
      "image/png": "[encoded data removed]",
      "text/plain": [
       "Plot with title \"\""
      ]
     },
     "metadata": {},
     "output_type": "display_data",
     "source": "R display func"
    }
   ],
   "source": [
    "fancyRpartPlot(mytree)"
   ]
  },
  {
   "cell_type": "markdown",
   "metadata": {},
   "source": [
    "Build tree model using caret package and report the confusion table"
   ]
  },
  {
   "cell_type": "code",
   "execution_count": 12,
   "metadata": {},
   "outputs": [
    {
     "data": {
      "text/plain": [
       "Confusion Matrix and Statistics\n",
       "\n",
       "          Reference\n",
       "Prediction  <=50K  >50K\n",
       "     <=50K   9388  1647\n",
       "     >50K     500  1489\n",
       "                                          \n",
       "               Accuracy : 0.8352          \n",
       "                 95% CI : (0.8287, 0.8415)\n",
       "    No Information Rate : 0.7592          \n",
       "    P-Value [Acc > NIR] : < 2.2e-16       \n",
       "                                          \n",
       "                  Kappa : 0.4848          \n",
       " Mcnemar's Test P-Value : < 2.2e-16       \n",
       "                                          \n",
       "            Sensitivity : 0.4748          \n",
       "            Specificity : 0.9494          \n",
       "         Pos Pred Value : 0.7486          \n",
       "         Neg Pred Value : 0.8507          \n",
       "             Prevalence : 0.2408          \n",
       "         Detection Rate : 0.1143          \n",
       "   Detection Prevalence : 0.1527          \n",
       "      Balanced Accuracy : 0.7121          \n",
       "                                          \n",
       "       'Positive' Class :  >50K           \n",
       "                                          "
      ]
     },
     "metadata": {},
     "output_type": "display_data"
    }
   ],
   "source": [
    "model=train(target~.,data=train,method=\"rpart\")\n",
    "pred=predict(model,test)\n",
    "cm2=confusionMatrix(pred,test$target, positive=\" >50K\")\n",
    "cm2"
   ]
  },
  {
   "cell_type": "markdown",
   "metadata": {},
   "source": [
    "Write a function, taking the input of training data percentage, to automate 7-10.  Apply the function with training data = 70%; 80%; 90%"
   ]
  },
  {
   "cell_type": "code",
   "execution_count": null,
   "metadata": {},
   "outputs": [
    {
     "name": "stdout",
     "output_type": "stream",
     "text": [
      "Confusion Matrix and Statistics\n",
      "\n",
      "          Reference\n",
      "Prediction  <=50K  >50K\n",
      "     <=50K   7074  1204\n",
      "     >50K     342  1148\n",
      "                                          \n",
      "               Accuracy : 0.8417          \n",
      "                 95% CI : (0.8343, 0.8489)\n",
      "    No Information Rate : 0.7592          \n",
      "    P-Value [Acc > NIR] : < 2.2e-16       \n",
      "                                          \n",
      "                  Kappa : 0.5052          \n",
      " Mcnemar's Test P-Value : < 2.2e-16       \n",
      "                                          \n",
      "            Sensitivity : 0.4881          \n",
      "            Specificity : 0.9539          \n",
      "         Pos Pred Value : 0.7705          \n",
      "         Neg Pred Value : 0.8546          \n",
      "             Prevalence : 0.2408          \n",
      "         Detection Rate : 0.1175          \n",
      "   Detection Prevalence : 0.1525          \n",
      "      Balanced Accuracy : 0.7210          \n",
      "                                          \n",
      "       'Positive' Class :  >50K           \n",
      "                                          \n"
     ]
    }
   ],
   "source": [
    "tree_train=function(x){\n",
    "  library(caret)\n",
    "  library(e1071)\n",
    "  library(rattle)\n",
    "  split=createDataPartition(df$target, p=x, list=FALSE, times=1)\n",
    "  train=df[split,]\n",
    "  test=df[-split,]\n",
    "  model=train(target~.,data=train,method=\"rpart\")\n",
    "  pred=predict(model,test)\n",
    "  cm=confusionMatrix(pred,test$target, positive=\" >50K\")\n",
    "  print(cm)\n",
    "  fancyRpartPlot(model$finalModel)\n",
    "\n",
    "}\n",
    "tree_train(.70)\n",
    "tree_train(.80)\n",
    "tree_train(.90)"
   ]
  },
  {
   "cell_type": "code",
   "execution_count": null,
   "metadata": {},
   "outputs": [],
   "source": []
  }
 ],
 "metadata": {
  "kernelspec": {
   "display_name": "R",
   "language": "R",
   "name": "ir"
  },
  "language_info": {
   "codemirror_mode": "r",
   "file_extension": ".r",
   "mimetype": "text/x-r-source",
   "name": "R",
   "pygments_lexer": "r",
   "version": "3.5.1"
  }
 },
 "nbformat": 4,
 "nbformat_minor": 2
}
