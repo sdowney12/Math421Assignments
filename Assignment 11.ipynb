{
 "cells": [
  {
   "cell_type": "markdown",
   "metadata": {},
   "source": [
    "I began my program by loading in the necessary packages, reading in the \"Adult\" dataset, and fixing the column headers."
   ]
  },
  {
   "cell_type": "code",
   "execution_count": 1,
   "metadata": {},
   "outputs": [
    {
     "name": "stderr",
     "output_type": "stream",
     "text": [
      "Loading required package: lattice\n",
      "Loading required package: ggplot2\n"
     ]
    }
   ],
   "source": [
    "library(caret)\n",
    "library(ranger)\n",
    "library(e1071)\n",
    "df = read.csv('adult.csv', header = FALSE)\n",
    "names(df)[1]='age'\n",
    "names(df)[2]='workclass'\n",
    "names(df)[3]='fnlwgt'\n",
    "names(df)[4]='education'\n",
    "names(df)[5]='education_num'\n",
    "names(df)[6]='marital_status'\n",
    "names(df)[7]='occupation'\n",
    "names(df)[8]='relationship'\n",
    "names(df)[9]='race'\n",
    "names(df)[10]='sex'\n",
    "names(df)[11]='capital_gain'\n",
    "names(df)[12]='capital_loss'\n",
    "names(df)[13]='hours_per_week'\n",
    "names(df)[14]='native_country'\n",
    "names(df)[15]='target'"
   ]
  },
  {
   "cell_type": "markdown",
   "metadata": {},
   "source": [
    "Replaced all the missing values with NA"
   ]
  },
  {
   "cell_type": "code",
   "execution_count": 2,
   "metadata": {},
   "outputs": [
    {
     "data": {
      "text/html": [
       "4262"
      ],
      "text/latex": [
       "4262"
      ],
      "text/markdown": [
       "4262"
      ],
      "text/plain": [
       "[1] 4262"
      ]
     },
     "metadata": {},
     "output_type": "display_data"
    }
   ],
   "source": [
    "df[df==' ?']=NA\n",
    "sum(is.na(df))"
   ]
  },
  {
   "cell_type": "markdown",
   "metadata": {},
   "source": [
    "Replaced the categorical missing values with the mode of the corresponding variables"
   ]
  },
  {
   "cell_type": "code",
   "execution_count": 3,
   "metadata": {},
   "outputs": [
    {
     "data": {
      "text/html": [
       "0"
      ],
      "text/latex": [
       "0"
      ],
      "text/markdown": [
       "0"
      ],
      "text/plain": [
       "[1] 0"
      ]
     },
     "metadata": {},
     "output_type": "display_data"
    }
   ],
   "source": [
    "cat_miss=function(x) {\n",
    "  for(i in 1:ncol(x)){\n",
    "    if(!is.numeric(x[,i])){\n",
    "      levels=unique(x[,i])\n",
    "      x[,i][is.na(x[,i])]=levels[which.max(tabulate(match(x, levels)))]\n",
    "    }\n",
    "  }\n",
    "  return(x)\n",
    "}\n",
    "df2=cat_miss(df)\n",
    "sum(is.na(df2))"
   ]
  },
  {
   "cell_type": "markdown",
   "metadata": {},
   "source": [
    "Replace the numeric missing values with the median using caret"
   ]
  },
  {
   "cell_type": "code",
   "execution_count": 4,
   "metadata": {},
   "outputs": [
    {
     "data": {
      "text/html": [
       "0"
      ],
      "text/latex": [
       "0"
      ],
      "text/markdown": [
       "0"
      ],
      "text/plain": [
       "[1] 0"
      ]
     },
     "metadata": {},
     "output_type": "display_data"
    }
   ],
   "source": [
    "num_miss=preProcess(df2, method='medianImpute')\n",
    "df3=predict(num_miss, newdata = df2)\n",
    "sum(is.na(df3))"
   ]
  },
  {
   "cell_type": "markdown",
   "metadata": {},
   "source": [
    "The variable \"native country\" has 42 categories, so I grouped the categories of this variable into 5 categories, and did the same for all categorical variables with more than 10 categories."
   ]
  },
  {
   "cell_type": "code",
   "execution_count": 5,
   "metadata": {},
   "outputs": [
    {
     "data": {
      "text/html": [
       "<ol class=list-inline>\n",
       "\t<li>'Asia'</li>\n",
       "\t<li>'Europe'</li>\n",
       "\t<li>'North America'</li>\n",
       "\t<li>'Other'</li>\n",
       "\t<li>'South America'</li>\n",
       "</ol>\n"
      ],
      "text/latex": [
       "\\begin{enumerate*}\n",
       "\\item 'Asia'\n",
       "\\item 'Europe'\n",
       "\\item 'North America'\n",
       "\\item 'Other'\n",
       "\\item 'South America'\n",
       "\\end{enumerate*}\n"
      ],
      "text/markdown": [
       "1. 'Asia'\n",
       "2. 'Europe'\n",
       "3. 'North America'\n",
       "4. 'Other'\n",
       "5. 'South America'\n",
       "\n",
       "\n"
      ],
      "text/plain": [
       "[1] \"Asia\"          \"Europe\"        \"North America\" \"Other\"        \n",
       "[5] \"South America\""
      ]
     },
     "metadata": {},
     "output_type": "display_data"
    },
    {
     "data": {
      "text/html": [
       "<ol class=list-inline>\n",
       "\t<li>'College Grad'</li>\n",
       "\t<li>'Elementary School'</li>\n",
       "\t<li>'High School'</li>\n",
       "\t<li>'Middle School'</li>\n",
       "\t<li>'Some College'</li>\n",
       "</ol>\n"
      ],
      "text/latex": [
       "\\begin{enumerate*}\n",
       "\\item 'College Grad'\n",
       "\\item 'Elementary School'\n",
       "\\item 'High School'\n",
       "\\item 'Middle School'\n",
       "\\item 'Some College'\n",
       "\\end{enumerate*}\n"
      ],
      "text/markdown": [
       "1. 'College Grad'\n",
       "2. 'Elementary School'\n",
       "3. 'High School'\n",
       "4. 'Middle School'\n",
       "5. 'Some College'\n",
       "\n",
       "\n"
      ],
      "text/plain": [
       "[1] \"College Grad\"      \"Elementary School\" \"High School\"      \n",
       "[4] \"Middle School\"     \"Some College\"     "
      ]
     },
     "metadata": {},
     "output_type": "display_data"
    },
    {
     "data": {
      "text/html": [
       "<ol class=list-inline>\n",
       "\t<li>'Corporate'</li>\n",
       "\t<li>'Defense'</li>\n",
       "\t<li>'Other'</li>\n",
       "\t<li>'Physical Labor'</li>\n",
       "\t<li>'Services'</li>\n",
       "</ol>\n"
      ],
      "text/latex": [
       "\\begin{enumerate*}\n",
       "\\item 'Corporate'\n",
       "\\item 'Defense'\n",
       "\\item 'Other'\n",
       "\\item 'Physical Labor'\n",
       "\\item 'Services'\n",
       "\\end{enumerate*}\n"
      ],
      "text/markdown": [
       "1. 'Corporate'\n",
       "2. 'Defense'\n",
       "3. 'Other'\n",
       "4. 'Physical Labor'\n",
       "5. 'Services'\n",
       "\n",
       "\n"
      ],
      "text/plain": [
       "[1] \"Corporate\"      \"Defense\"        \"Other\"          \"Physical Labor\"\n",
       "[5] \"Services\"      "
      ]
     },
     "metadata": {},
     "output_type": "display_data"
    }
   ],
   "source": [
    "df3$native_country=as.character(df3$native_country)\n",
    "df3$education=as.character(df3$education)\n",
    "df3$occupation=as.character(df3$occupation)\n",
    "\n",
    "df3$native_country[df3$native_country==\" United-States\"|df3$native_country==\" Canada\"|df3$native_country==\" Mexico\"]=\"North America\"\n",
    "\n",
    "df3$native_country[df3$native_country==\" England\"|df3$native_country==\" Germany\"|df3$native_country==\" Italy\"|df3$native_country==\" Poland\"|df3$native_country==\" Portugal\"|df3$native_country==\" France\"|df3$native_country==\" Scotland\"|df3$native_country==\" Greece\"|df3$native_country==\" Ireland\"|df3$native_country==\" Holand-Netherlands\"|df3$native_country==\" Yugoslavia\"|df3$native_country==\" Hungary\"]=\"Europe\"\n",
    "\n",
    "df3$native_country[df3$native_country==\" India\"|df3$native_country==\" Cambodia\"|df3$native_country==\" Thailand\"|df3$native_country==\" Laos\"|df3$native_country==\" Taiwan\"|df3$native_country==\" China\"|df3$native_country==\" Japan\"|df3$native_country==\" Vietnam\"|df3$native_country==\" Hong\"|df3$native_country==\" Philippines\"|df3$native_country==\" Iran\"]=\"Asia\"\n",
    "\n",
    "df3$native_country[df3$native_country==\" Columbia\"|df3$native_country==\" Ecuador\"]=\"South America\"\n",
    "\n",
    "df3$native_country[df3$native_country==\" Cuba\"|df3$native_country==\" Jamaica\"|df3$native_country==\" South\"|df3$native_country==\" Puerto-Rico\"|df3$native_country==\" Honduras\"|df3$native_country==\" Haiti\"|df3$native_country==\" Dominican-Republic\"|df3$native_country==\" El-Salvador\"|df3$native_country==\" Guatemala\"|df3$native_country==\" Peru\"|df3$native_country==\" Outlying-US(Guam-USVI-etc)\"|df3$native_country==\" Trinadad&Tobago\"|df3$native_country==\" Nicaragua\"]=\"Other\"\n",
    "\n",
    "df3$education[df3$education==\" HS-grad\"|df3$education==\" 12th\"|df3$education==\" 11th\"|df3$education==\" 10th\"|df3$education==\" 9th\"]=\"High School\"\n",
    "\n",
    "df3$education[df3$education==\" Some-college\"|df3$education==\" Assoc-acdm\"|df3$education==\" Assoc-voc\"]=\"Some College\"\n",
    "\n",
    "df3$education[df3$education==\" 5th-6th\"|df3$education==\" 7th-8th\"]=\"Middle School\"\n",
    "\n",
    "df3$education[df3$education==\" Preschool\"|df3$education==\" 1st-4th\"]=\"Elementary School\"\n",
    "\n",
    "df3$education[df3$education==\" Bachelors\"|df3$education==\" Masters\"|df3$education==\" Doctorate\"|df3$education==\" Prof-school\"]=\"College Grad\"\n",
    "\n",
    "df3$occupation[df3$occupation==\" Transport-moving\"|df3$occupation==\" Farming-fishing\"|df3$occupation==\" Machine-op-inspct\"]=\"Physical Labor\"\n",
    "df3$occupation[df3$occupation==\" Handlers-cleaners\"|df3$occupation==\" Priv-house-serv\"|df3$occupation==\" Tech-support\"]=\"Services\"\n",
    "df3$occupation[df3$occupation==\" Exec-managerial\"|df3$occupation==\" Sales\"|df3$occupation==\" Adm-clerical\"]=\"Corporate\"\n",
    "df3$occupation[df3$occupation==\" Armed-Forces\"|df3$occupation==\" Protective-serv\"]=\"Defense\"\n",
    "df3$occupation[df3$occupation==\" Other-service\"|df3$occupation==\" Prof-specialty\"|df3$occupation==\" Craft-repair\"]=\"Other\"\n",
    "\n",
    "df3$native_country=as.factor(df3$native_country)\n",
    "df3$education=as.factor(df3$education)\n",
    "df3$occupation=as.factor(df3$occupation)\n",
    "\n",
    "levels(df3$native_country)\n",
    "levels(df3$education)\n",
    "levels(df3$occupation)"
   ]
  },
  {
   "cell_type": "markdown",
   "metadata": {},
   "source": [
    "Encoded categorical variables using one hot encoding (dummy encoding)"
   ]
  },
  {
   "cell_type": "code",
   "execution_count": 6,
   "metadata": {},
   "outputs": [
    {
     "name": "stderr",
     "output_type": "stream",
     "text": [
      "Warning message in model.frame.default(Terms, newdata, na.action = na.action, xlev = object$lvls):\n",
      "\"variable 'target' is not a factor\""
     ]
    },
    {
     "name": "stdout",
     "output_type": "stream",
     "text": [
      "'data.frame':\t32561 obs. of  51 variables:\n",
      " $ age                                  : num  39 50 38 53 28 37 49 52 31 42 ...\n",
      " $ workclass...                         : num  0 0 0 0 0 0 0 0 0 0 ...\n",
      " $ workclass..Federal.gov               : num  0 0 0 0 0 0 0 0 0 0 ...\n",
      " $ workclass..Local.gov                 : num  0 0 0 0 0 0 0 0 0 0 ...\n",
      " $ workclass..Never.worked              : num  0 0 0 0 0 0 0 0 0 0 ...\n",
      " $ workclass..Private                   : num  0 0 1 1 1 1 1 0 1 1 ...\n",
      " $ workclass..Self.emp.inc              : num  0 0 0 0 0 0 0 0 0 0 ...\n",
      " $ workclass..Self.emp.not.inc          : num  0 1 0 0 0 0 0 1 0 0 ...\n",
      " $ workclass..State.gov                 : num  1 0 0 0 0 0 0 0 0 0 ...\n",
      " $ workclass..Without.pay               : num  0 0 0 0 0 0 0 0 0 0 ...\n",
      " $ fnlwgt                               : num  77516 83311 215646 234721 338409 ...\n",
      " $ education.College.Grad               : num  1 1 0 0 1 1 0 0 1 1 ...\n",
      " $ education.Elementary.School          : num  0 0 0 0 0 0 0 0 0 0 ...\n",
      " $ education.High.School                : num  0 0 1 1 0 0 1 1 0 0 ...\n",
      " $ education.Middle.School              : num  0 0 0 0 0 0 0 0 0 0 ...\n",
      " $ education.Some.College               : num  0 0 0 0 0 0 0 0 0 0 ...\n",
      " $ education_num                        : num  13 13 9 7 13 14 5 9 14 13 ...\n",
      " $ marital_status..Divorced             : num  0 0 1 0 0 0 0 0 0 0 ...\n",
      " $ marital_status..Married.AF.spouse    : num  0 0 0 0 0 0 0 0 0 0 ...\n",
      " $ marital_status..Married.civ.spouse   : num  0 1 0 1 1 1 0 1 0 1 ...\n",
      " $ marital_status..Married.spouse.absent: num  0 0 0 0 0 0 1 0 0 0 ...\n",
      " $ marital_status..Never.married        : num  1 0 0 0 0 0 0 0 1 0 ...\n",
      " $ marital_status..Separated            : num  0 0 0 0 0 0 0 0 0 0 ...\n",
      " $ marital_status..Widowed              : num  0 0 0 0 0 0 0 0 0 0 ...\n",
      " $ occupation.Corporate                 : num  1 1 0 0 0 1 0 1 0 1 ...\n",
      " $ occupation.Defense                   : num  0 0 0 0 0 0 0 0 0 0 ...\n",
      " $ occupation.Other                     : num  0 0 0 0 1 0 1 0 1 0 ...\n",
      " $ occupation.Physical.Labor            : num  0 0 0 0 0 0 0 0 0 0 ...\n",
      " $ occupation.Services                  : num  0 0 1 1 0 0 0 0 0 0 ...\n",
      " $ relationship..Husband                : num  0 1 0 1 0 0 0 1 0 1 ...\n",
      " $ relationship..Not.in.family          : num  1 0 1 0 0 0 1 0 1 0 ...\n",
      " $ relationship..Other.relative         : num  0 0 0 0 0 0 0 0 0 0 ...\n",
      " $ relationship..Own.child              : num  0 0 0 0 0 0 0 0 0 0 ...\n",
      " $ relationship..Unmarried              : num  0 0 0 0 0 0 0 0 0 0 ...\n",
      " $ relationship..Wife                   : num  0 0 0 0 1 1 0 0 0 0 ...\n",
      " $ race..Amer.Indian.Eskimo             : num  0 0 0 0 0 0 0 0 0 0 ...\n",
      " $ race..Asian.Pac.Islander             : num  0 0 0 0 0 0 0 0 0 0 ...\n",
      " $ race..Black                          : num  0 0 0 1 1 0 1 0 0 0 ...\n",
      " $ race..Other                          : num  0 0 0 0 0 0 0 0 0 0 ...\n",
      " $ race..White                          : num  1 1 1 0 0 1 0 1 1 1 ...\n",
      " $ sex..Female                          : num  0 0 0 0 1 1 1 0 1 0 ...\n",
      " $ sex..Male                            : num  1 1 1 1 0 0 0 1 0 1 ...\n",
      " $ capital_gain                         : num  2174 0 0 0 0 ...\n",
      " $ capital_loss                         : num  0 0 0 0 0 0 0 0 0 0 ...\n",
      " $ hours_per_week                       : num  40 13 40 40 40 40 16 45 50 40 ...\n",
      " $ native_country.Asia                  : num  0 0 0 0 0 0 0 0 0 0 ...\n",
      " $ native_country.Europe                : num  0 0 0 0 0 0 0 0 0 0 ...\n",
      " $ native_country.North.America         : num  1 1 1 1 0 1 0 1 1 1 ...\n",
      " $ native_country.Other                 : num  0 0 0 0 1 0 1 0 0 0 ...\n",
      " $ native_country.South.America         : num  0 0 0 0 0 0 0 0 0 0 ...\n",
      " $ target                               : Factor w/ 2 levels \" <=50K\",\" >50K\": 1 1 1 1 1 1 1 2 2 2 ...\n"
     ]
    }
   ],
   "source": [
    "dummies_model=dummyVars(target ~ ., data=df3)\n",
    "trainData_mat=predict(dummies_model, newdata = df3)\n",
    "trainData= data.frame(trainData_mat)\n",
    "trainData$target=df3$target\n",
    "str(trainData)"
   ]
  },
  {
   "cell_type": "markdown",
   "metadata": {},
   "source": [
    "Scaled and centered the data "
   ]
  },
  {
   "cell_type": "code",
   "execution_count": 7,
   "metadata": {},
   "outputs": [
    {
     "name": "stderr",
     "output_type": "stream",
     "text": [
      "Warning message in preProcess.default(trainData, method = c(\"center\", \"scale\")):\n",
      "\"These variables have zero variances: workclass...\""
     ]
    },
    {
     "name": "stdout",
     "output_type": "stream",
     "text": [
      "'data.frame':\t32561 obs. of  51 variables:\n",
      " $ age                                  : num  0.0307 0.8371 -0.0426 1.057 -0.7758 ...\n",
      " $ workclass...                         : num  0 0 0 0 0 0 0 0 0 0 ...\n",
      " $ workclass..Federal.gov               : num  -0.174 -0.174 -0.174 -0.174 -0.174 ...\n",
      " $ workclass..Local.gov                 : num  -0.262 -0.262 -0.262 -0.262 -0.262 ...\n",
      " $ workclass..Never.worked              : num  -0.0147 -0.0147 -0.0147 -0.0147 -0.0147 ...\n",
      " $ workclass..Private                   : num  -1.517 -1.517 0.659 0.659 0.659 ...\n",
      " $ workclass..Self.emp.inc              : num  -0.188 -0.188 -0.188 -0.188 -0.188 ...\n",
      " $ workclass..Self.emp.not.inc          : num  -0.291 3.437 -0.291 -0.291 -0.291 ...\n",
      " $ workclass..State.gov                 : num  3.064 -0.326 -0.326 -0.326 -0.326 ...\n",
      " $ workclass..Without.pay               : num  -0.0207 -0.0207 -0.0207 -0.0207 -0.0207 ...\n",
      " $ fnlwgt                               : num  -1.064 -1.009 0.245 0.426 1.408 ...\n",
      " $ education.College.Grad               : num  1.742 1.742 -0.574 -0.574 1.742 ...\n",
      " $ education.Elementary.School          : num  -0.0823 -0.0823 -0.0823 -0.0823 -0.0823 ...\n",
      " $ education.High.School                : num  -0.845 -0.845 1.184 1.184 -0.845 ...\n",
      " $ education.Middle.School              : num  -0.176 -0.176 -0.176 -0.176 -0.176 ...\n",
      " $ education.Some.College               : num  -0.653 -0.653 -0.653 -0.653 -0.653 ...\n",
      " $ education_num                        : num  1.13 1.13 -0.42 -1.2 1.13 ...\n",
      " $ marital_status..Divorced             : num  -0.398 -0.398 2.516 -0.398 -0.398 ...\n",
      " $ marital_status..Married.AF.spouse    : num  -0.0266 -0.0266 -0.0266 -0.0266 -0.0266 ...\n",
      " $ marital_status..Married.civ.spouse   : num  -0.923 1.084 -0.923 1.084 1.084 ...\n",
      " $ marital_status..Married.spouse.absent: num  -0.114 -0.114 -0.114 -0.114 -0.114 ...\n",
      " $ marital_status..Never.married        : num  1.431 -0.699 -0.699 -0.699 -0.699 ...\n",
      " $ marital_status..Separated            : num  -0.18 -0.18 -0.18 -0.18 -0.18 ...\n",
      " $ marital_status..Widowed              : num  -0.177 -0.177 -0.177 -0.177 -0.177 ...\n",
      " $ occupation.Corporate                 : num  1.201 1.201 -0.832 -0.832 -0.832 ...\n",
      " $ occupation.Defense                   : num  -0.144 -0.144 -0.144 -0.144 -0.144 ...\n",
      " $ occupation.Other                     : num  -0.741 -0.741 -0.741 -0.741 1.35 ...\n",
      " $ occupation.Physical.Labor            : num  -0.405 -0.405 -0.405 -0.405 -0.405 ...\n",
      " $ occupation.Services                  : num  -0.285 -0.285 3.508 3.508 -0.285 ...\n",
      " $ relationship..Husband                : num  -0.825 1.212 -0.825 1.212 -0.825 ...\n",
      " $ relationship..Not.in.family          : num  1.709 -0.585 1.709 -0.585 -0.585 ...\n",
      " $ relationship..Other.relative         : num  -0.176 -0.176 -0.176 -0.176 -0.176 ...\n",
      " $ relationship..Own.child              : num  -0.429 -0.429 -0.429 -0.429 -0.429 ...\n",
      " $ relationship..Unmarried              : num  -0.344 -0.344 -0.344 -0.344 -0.344 ...\n",
      " $ relationship..Wife                   : num  -0.225 -0.225 -0.225 -0.225 4.446 ...\n",
      " $ race..Amer.Indian.Eskimo             : num  -0.0982 -0.0982 -0.0982 -0.0982 -0.0982 ...\n",
      " $ race..Asian.Pac.Islander             : num  -0.182 -0.182 -0.182 -0.182 -0.182 ...\n",
      " $ race..Black                          : num  -0.326 -0.326 -0.326 3.07 3.07 ...\n",
      " $ race..Other                          : num  -0.0916 -0.0916 -0.0916 -0.0916 -0.0916 ...\n",
      " $ race..White                          : num  0.413 0.413 0.413 -2.421 -2.421 ...\n",
      " $ sex..Female                          : num  -0.703 -0.703 -0.703 -0.703 1.422 ...\n",
      " $ sex..Male                            : num  0.703 0.703 0.703 0.703 -1.422 ...\n",
      " $ capital_gain                         : num  0.148 -0.146 -0.146 -0.146 -0.146 ...\n",
      " $ capital_loss                         : num  -0.217 -0.217 -0.217 -0.217 -0.217 ...\n",
      " $ hours_per_week                       : num  -0.0354 -2.2221 -0.0354 -0.0354 -0.0354 ...\n",
      " $ native_country.Asia                  : num  -0.145 -0.145 -0.145 -0.145 -0.145 ...\n",
      " $ native_country.Europe                : num  -0.128 -0.128 -0.128 -0.128 -0.128 ...\n",
      " $ native_country.North.America         : num  0.259 0.259 0.259 0.259 -3.864 ...\n",
      " $ native_country.Other                 : num  -0.155 -0.155 -0.155 -0.155 6.447 ...\n",
      " $ native_country.South.America         : num  -0.0518 -0.0518 -0.0518 -0.0518 -0.0518 ...\n",
      " $ target                               : Factor w/ 2 levels \" <=50K\",\" >50K\": 1 1 1 1 1 1 1 2 2 2 ...\n"
     ]
    }
   ],
   "source": [
    "standardized= preProcess(trainData,method=c('center','scale'))\n",
    "train2=predict(standardized,newdata=trainData)\n",
    "str(train2)"
   ]
  },
  {
   "cell_type": "markdown",
   "metadata": {},
   "source": [
    "Split the data into training (70%) and testing (30%) with the seeding set to be 2018. Built a decision tree and reported the accuracy and balanced accuracy"
   ]
  },
  {
   "cell_type": "code",
   "execution_count": 8,
   "metadata": {},
   "outputs": [
    {
     "data": {
      "text/html": [
       "<strong>Accuracy:</strong> 0.833128583128583"
      ],
      "text/latex": [
       "\\textbf{Accuracy:} 0.833128583128583"
      ],
      "text/markdown": [
       "**Accuracy:** 0.833128583128583"
      ],
      "text/plain": [
       " Accuracy \n",
       "0.8331286 "
      ]
     },
     "metadata": {},
     "output_type": "display_data"
    },
    {
     "data": {
      "text/html": [
       "<strong>Balanced Accuracy:</strong> 0.711261365387579"
      ],
      "text/latex": [
       "\\textbf{Balanced Accuracy:} 0.711261365387579"
      ],
      "text/markdown": [
       "**Balanced Accuracy:** 0.711261365387579"
      ],
      "text/plain": [
       "Balanced Accuracy \n",
       "        0.7112614 "
      ]
     },
     "metadata": {},
     "output_type": "display_data"
    }
   ],
   "source": [
    "set.seed(2018)\n",
    "splitIndex=createDataPartition(train2$target, p=.70, list=FALSE, times=1)\n",
    "train_data=train2[splitIndex,]\n",
    "test=train2[-splitIndex,]\n",
    "model=train(target~.,data=train_data,method=\"rpart\")\n",
    "pred=predict(model,test)\n",
    "cm=confusionMatrix(pred,test$target, positive=\" >50K\")\n",
    "cm$overall['Accuracy']\n",
    "cm$byClass['Balanced Accuracy']"
   ]
  },
  {
   "cell_type": "markdown",
   "metadata": {},
   "source": [
    "Built a random forest using the ranger package.  Reported the accuracy and balanced accuracy"
   ]
  },
  {
   "cell_type": "code",
   "execution_count": 9,
   "metadata": {},
   "outputs": [
    {
     "data": {
      "text/html": [
       "<strong>Accuracy:</strong> 0.859336609336609"
      ],
      "text/latex": [
       "\\textbf{Accuracy:} 0.859336609336609"
      ],
      "text/markdown": [
       "**Accuracy:** 0.859336609336609"
      ],
      "text/plain": [
       " Accuracy \n",
       "0.8593366 "
      ]
     },
     "metadata": {},
     "output_type": "display_data"
    },
    {
     "data": {
      "text/html": [
       "<strong>Balanced Accuracy:</strong> 0.773812275719349"
      ],
      "text/latex": [
       "\\textbf{Balanced Accuracy:} 0.773812275719349"
      ],
      "text/markdown": [
       "**Balanced Accuracy:** 0.773812275719349"
      ],
      "text/plain": [
       "Balanced Accuracy \n",
       "        0.7738123 "
      ]
     },
     "metadata": {},
     "output_type": "display_data"
    }
   ],
   "source": [
    "model2=ranger(target ~., data = train_data)\n",
    "pred2=predict(model2,test)$predictions\n",
    "cm2=confusionMatrix(pred2,test$target,positive=\" >50K\")\n",
    "cm2$overall['Accuracy']\n",
    "cm2$byClass['Balanced Accuracy']"
   ]
  },
  {
   "cell_type": "markdown",
   "metadata": {},
   "source": [
    "Redid #3 with missing values being replaced by the mean.  Rebuilt the models and reported the models' performances (the accuracy and balanced accuracy)."
   ]
  },
  {
   "cell_type": "code",
   "execution_count": 10,
   "metadata": {},
   "outputs": [
    {
     "data": {
      "text/html": [
       "0"
      ],
      "text/latex": [
       "0"
      ],
      "text/markdown": [
       "0"
      ],
      "text/plain": [
       "[1] 0"
      ]
     },
     "metadata": {},
     "output_type": "display_data"
    },
    {
     "name": "stderr",
     "output_type": "stream",
     "text": [
      "Warning message in model.frame.default(Terms, newdata, na.action = na.action, xlev = object$lvls):\n",
      "\"variable 'target' is not a factor\"Warning message in preProcess.default(trainData2, method = c(\"center\", \"scale\")):\n",
      "\"These variables have zero variances: workclass...\""
     ]
    },
    {
     "data": {
      "text/html": [
       "<strong>Accuracy:</strong> 0.833128583128583"
      ],
      "text/latex": [
       "\\textbf{Accuracy:} 0.833128583128583"
      ],
      "text/markdown": [
       "**Accuracy:** 0.833128583128583"
      ],
      "text/plain": [
       " Accuracy \n",
       "0.8331286 "
      ]
     },
     "metadata": {},
     "output_type": "display_data"
    },
    {
     "data": {
      "text/html": [
       "<strong>Balanced Accuracy:</strong> 0.711261365387579"
      ],
      "text/latex": [
       "\\textbf{Balanced Accuracy:} 0.711261365387579"
      ],
      "text/markdown": [
       "**Balanced Accuracy:** 0.711261365387579"
      ],
      "text/plain": [
       "Balanced Accuracy \n",
       "        0.7112614 "
      ]
     },
     "metadata": {},
     "output_type": "display_data"
    },
    {
     "data": {
      "text/html": [
       "<strong>Accuracy:</strong> 0.859336609336609"
      ],
      "text/latex": [
       "\\textbf{Accuracy:} 0.859336609336609"
      ],
      "text/markdown": [
       "**Accuracy:** 0.859336609336609"
      ],
      "text/plain": [
       " Accuracy \n",
       "0.8593366 "
      ]
     },
     "metadata": {},
     "output_type": "display_data"
    },
    {
     "data": {
      "text/html": [
       "<strong>Balanced Accuracy:</strong> 0.773521949232768"
      ],
      "text/latex": [
       "\\textbf{Balanced Accuracy:} 0.773521949232768"
      ],
      "text/markdown": [
       "**Balanced Accuracy:** 0.773521949232768"
      ],
      "text/plain": [
       "Balanced Accuracy \n",
       "        0.7735219 "
      ]
     },
     "metadata": {},
     "output_type": "display_data"
    }
   ],
   "source": [
    "miss_num=function(x){\n",
    "  for (i in 1:ncol(x)){\n",
    "    if (is.numeric(x[,i])){\n",
    "      x[,i][is.na(x[,i])]=mean(x[,i], na.rm=TRUE)\n",
    "    }\n",
    "  }\n",
    "  return(x)\n",
    "}\n",
    "df4=miss_num(df2)\n",
    "sum(is.na(df4))\n",
    "\n",
    "df4$native_country=as.character(df4$native_country)\n",
    "df4$education=as.character(df4$education)\n",
    "df4$occupation=as.character(df4$occupation)\n",
    "\n",
    "df4$native_country[df4$native_country==\" United-States\"|df4$native_country==\" Canada\"|df4$native_country==\" Mexico\"]=\"North America\"\n",
    "\n",
    "df4$native_country[df4$native_country==\" England\"|df4$native_country==\" Germany\"|df4$native_country==\" Italy\"|df4$native_country==\" Poland\"|df4$native_country==\" Portugal\"|df4$native_country==\" France\"|df4$native_country==\" Scotland\"|df4$native_country==\" Greece\"|df4$native_country==\" Ireland\"|df4$native_country==\" Holand-Netherlands\"|df4$native_country==\" Yugoslavia\"|df4$native_country==\" Hungary\"]=\"Europe\"\n",
    "\n",
    "df4$native_country[df4$native_country==\" India\"|df4$native_country==\" Cambodia\"|df4$native_country==\" Thailand\"|df4$native_country==\" Laos\"|df4$native_country==\" Taiwan\"|df4$native_country==\" China\"|df4$native_country==\" Japan\"|df4$native_country==\" Vietnam\"|df4$native_country==\" Hong\"|df4$native_country==\" Philippines\"|df4$native_country==\" Iran\"]=\"Asia\"\n",
    "\n",
    "df4$native_country[df4$native_country==\" Columbia\"|df4$native_country==\" Ecuador\"]=\"South America\"\n",
    "\n",
    "df4$native_country[df4$native_country==\" Cuba\"|df4$native_country==\" Jamaica\"|df4$native_country==\" South\"|df4$native_country==\" Puerto-Rico\"|df4$native_country==\" Honduras\"|df4$native_country==\" Haiti\"|df4$native_country==\" Dominican-Republic\"|df4$native_country==\" El-Salvador\"|df4$native_country==\" Guatemala\"|df4$native_country==\" Peru\"|df4$native_country==\" Outlying-US(Guam-USVI-etc)\"|df4$native_country==\" Trinadad&Tobago\"|df4$native_country==\" Nicaragua\"]=\"Other\"\n",
    "\n",
    "df3$education[df4$education==\" HS-grad\"|df4$education==\" 12th\"|df4$education==\" 11th\"|df4$education==\" 10th\"|df4$education==\" 9th\"]=\"High School\"\n",
    "\n",
    "df4$education[df4$education==\" Some-college\"|df4$education==\" Assoc-acdm\"|df4$education==\" Assoc-voc\"]=\"Some College\"\n",
    "\n",
    "df4$education[df4$education==\" 5th-6th\"|df4$education==\" 7th-8th\"]=\"Middle School\"\n",
    "\n",
    "df4$education[df4$education==\" Preschool\"|df4$education==\" 1st-4th\"]=\"Elementary School\"\n",
    "\n",
    "df4$education[df4$education==\" Bachelors\"|df4$education==\" Masters\"|df4$education==\" Doctorate\"|df4$education==\" Prof-school\"]=\"College Grad\"\n",
    "\n",
    "df4$occupation[df4$occupation==\" Transport-moving\"|df4$occupation==\" Farming-fishing\"|df4$occupation==\" Machine-op-inspct\"]=\"Physical Labor\"\n",
    "df4$occupation[df4$occupation==\" Handlers-cleaners\"|df4$occupation==\" Priv-house-serv\"|df4$occupation==\" Tech-support\"]=\"Services\"\n",
    "df4$occupation[df4$occupation==\" Exec-managerial\"|df4$occupation==\" Sales\"|df4$occupation==\" Adm-clerical\"]=\"Corporate\"\n",
    "df4$occupation[df4$occupation==\" Armed-Forces\"|df4$occupation==\" Protective-serv\"]=\"Defense\"\n",
    "df4$occupation[df4$occupation==\" Other-service\"|df4$occupation==\" Prof-specialty\"|df4$occupation==\" Craft-repair\"]=\"Other\"\n",
    "\n",
    "df4$native_country=as.factor(df4$native_country)\n",
    "df4$education=as.factor(df4$education)\n",
    "df4$occupation=as.factor(df4$occupation)\n",
    "\n",
    "dummies_model=dummyVars(target ~ ., data=df4)\n",
    "trainData_mat2=predict(dummies_model, newdata = df4)\n",
    "trainData2= data.frame(trainData_mat2)\n",
    "trainData2$target=df4$target\n",
    "\n",
    "standardized2= preProcess(trainData2,method=c('center','scale'))\n",
    "train3=predict(standardized2,newdata=trainData2)\n",
    "\n",
    "set.seed(2018)\n",
    "splitIndex2=createDataPartition(train3$target, p=.70, list=FALSE, times=1)\n",
    "train_data2=train3[splitIndex2,]\n",
    "test2=train3[-splitIndex2,]\n",
    "model3=train(target~.,data=train_data2,method=\"rpart\")\n",
    "pred3=predict(model3,test2)\n",
    "cm3=confusionMatrix(pred3,test2$target, positive=\" >50K\")\n",
    "cm3$overall['Accuracy']\n",
    "cm3$byClass['Balanced Accuracy']\n",
    "\n",
    "model4=ranger(target ~., data = train_data2)\n",
    "pred4=predict(model4,test2)$predictions\n",
    "cm4=confusionMatrix(pred4,test2$target,positive=\" >50K\")\n",
    "cm4$overall['Accuracy']\n",
    "cm4$byClass['Balanced Accuracy']"
   ]
  },
  {
   "cell_type": "markdown",
   "metadata": {},
   "source": [
    "Redid #3 with missing values being replaced by the \"knn\" imputation method.  Rebuilt the model and report the models' performances (the accuracy and balanced accuracy)"
   ]
  },
  {
   "cell_type": "code",
   "execution_count": 11,
   "metadata": {},
   "outputs": [
    {
     "data": {
      "text/html": [
       "0"
      ],
      "text/latex": [
       "0"
      ],
      "text/markdown": [
       "0"
      ],
      "text/plain": [
       "[1] 0"
      ]
     },
     "metadata": {},
     "output_type": "display_data"
    },
    {
     "name": "stderr",
     "output_type": "stream",
     "text": [
      "Warning message in model.frame.default(Terms, newdata, na.action = na.action, xlev = object$lvls):\n",
      "\"variable 'target' is not a factor\"Warning message in preProcess.default(trainData3, method = c(\"center\", \"scale\")):\n",
      "\"These variables have zero variances: workclass...\""
     ]
    },
    {
     "data": {
      "text/html": [
       "<strong>Accuracy:</strong> 0.833128583128583"
      ],
      "text/latex": [
       "\\textbf{Accuracy:} 0.833128583128583"
      ],
      "text/markdown": [
       "**Accuracy:** 0.833128583128583"
      ],
      "text/plain": [
       " Accuracy \n",
       "0.8331286 "
      ]
     },
     "metadata": {},
     "output_type": "display_data"
    },
    {
     "data": {
      "text/html": [
       "<strong>Balanced Accuracy:</strong> 0.711261365387579"
      ],
      "text/latex": [
       "\\textbf{Balanced Accuracy:} 0.711261365387579"
      ],
      "text/markdown": [
       "**Balanced Accuracy:** 0.711261365387579"
      ],
      "text/plain": [
       "Balanced Accuracy \n",
       "        0.7112614 "
      ]
     },
     "metadata": {},
     "output_type": "display_data"
    },
    {
     "data": {
      "text/html": [
       "<strong>Accuracy:</strong> 0.859336609336609"
      ],
      "text/latex": [
       "\\textbf{Accuracy:} 0.859336609336609"
      ],
      "text/markdown": [
       "**Accuracy:** 0.859336609336609"
      ],
      "text/plain": [
       " Accuracy \n",
       "0.8593366 "
      ]
     },
     "metadata": {},
     "output_type": "display_data"
    },
    {
     "data": {
      "text/html": [
       "<strong>Balanced Accuracy:</strong> 0.773812275719349"
      ],
      "text/latex": [
       "\\textbf{Balanced Accuracy:} 0.773812275719349"
      ],
      "text/markdown": [
       "**Balanced Accuracy:** 0.773812275719349"
      ],
      "text/plain": [
       "Balanced Accuracy \n",
       "        0.7738123 "
      ]
     },
     "metadata": {},
     "output_type": "display_data"
    }
   ],
   "source": [
    "num_miss=preProcess(df2, method='knnImpute')\n",
    "df5=predict(num_miss, newdata = df2)\n",
    "sum(is.na(df5))\n",
    "\n",
    "df5$native_country=as.character(df5$native_country)\n",
    "df5$education=as.character(df5$education)\n",
    "df5$occupation=as.character(df5$occupation)\n",
    "\n",
    "df5$native_country[df5$native_country==\" United-States\"|df5$native_country==\" Canada\"|df5$native_country==\" Mexico\"]=\"North America\"\n",
    "\n",
    "df5$native_country[df5$native_country==\" England\"|df5$native_country==\" Germany\"|df5$native_country==\" Italy\"|df5$native_country==\" Poland\"|df5$native_country==\" Portugal\"|df5$native_country==\" France\"|df5$native_country==\" Scotland\"|df5$native_country==\" Greece\"|df5$native_country==\" Ireland\"|df5$native_country==\" Holand-Netherlands\"|df5$native_country==\" Yugoslavia\"|df5$native_country==\" Hungary\"]=\"Europe\"\n",
    "\n",
    "df5$native_country[df5$native_country==\" India\"|df5$native_country==\" Cambodia\"|df5$native_country==\" Thailand\"|df5$native_country==\" Laos\"|df5$native_country==\" Taiwan\"|df5$native_country==\" China\"|df5$native_country==\" Japan\"|df5$native_country==\" Vietnam\"|df5$native_country==\" Hong\"|df5$native_country==\" Philippines\"|df5$native_country==\" Iran\"]=\"Asia\"\n",
    "\n",
    "df5$native_country[df5$native_country==\" Columbia\"|df5$native_country==\" Ecuador\"]=\"South America\"\n",
    "\n",
    "df5$native_country[df5$native_country==\" Cuba\"|df5$native_country==\" Jamaica\"|df5$native_country==\" South\"|df5$native_country==\" Puerto-Rico\"|df5$native_country==\" Honduras\"|df5$native_country==\" Haiti\"|df5$native_country==\" Dominican-Republic\"|df5$native_country==\" El-Salvador\"|df5$native_country==\" Guatemala\"|df5$native_country==\" Peru\"|df5$native_country==\" Outlying-US(Guam-USVI-etc)\"|df5$native_country==\" Trinadad&Tobago\"|df5$native_country==\" Nicaragua\"]=\"Other\"\n",
    "\n",
    "df5$education[df5$education==\" HS-grad\"|df5$education==\" 12th\"|df5$education==\" 11th\"|df5$education==\" 10th\"|df5$education==\" 9th\"]=\"High School\"\n",
    "\n",
    "df5$education[df5$education==\" Some-college\"|df5$education==\" Assoc-acdm\"|df5$education==\" Assoc-voc\"]=\"Some College\"\n",
    "\n",
    "df5$education[df5$education==\" 5th-6th\"|df5$education==\" 7th-8th\"]=\"Middle School\"\n",
    "\n",
    "df5$education[df5$education==\" Preschool\"|df5$education==\" 1st-4th\"]=\"Elementary School\"\n",
    "\n",
    "df5$education[df5$education==\" Bachelors\"|df5$education==\" Masters\"|df5$education==\" Doctorate\"|df5$education==\" Prof-school\"]=\"College Grad\"\n",
    "\n",
    "df5$occupation[df5$occupation==\" Transport-moving\"|df5$occupation==\" Farming-fishing\"|df5$occupation==\" Machine-op-inspct\"]=\"Physical Labor\"\n",
    "df5$occupation[df5$occupation==\" Handlers-cleaners\"|df5$occupation==\" Priv-house-serv\"|df5$occupation==\" Tech-support\"]=\"Services\"\n",
    "df5$occupation[df5$occupation==\" Exec-managerial\"|df5$occupation==\" Sales\"|df5$occupation==\" Adm-clerical\"]=\"Corporate\"\n",
    "df5$occupation[df5$occupation==\" Armed-Forces\"|df5$occupation==\" Protective-serv\"]=\"Defense\"\n",
    "df5$occupation[df5$occupation==\" Other-service\"|df5$occupation==\" Prof-specialty\"|df5$occupation==\" Craft-repair\"]=\"Other\"\n",
    "\n",
    "df5$native_country=as.factor(df5$native_country)\n",
    "df5$education=as.factor(df5$education)\n",
    "df5$occupation=as.factor(df5$occupation)\n",
    "\n",
    "dummies_model=dummyVars(target ~ ., data=df5)\n",
    "trainData_mat3=predict(dummies_model, newdata = df5)\n",
    "trainData3= data.frame(trainData_mat3)\n",
    "trainData3$target=df5$target\n",
    "\n",
    "standardized3= preProcess(trainData3,method=c('center','scale'))\n",
    "train4=predict(standardized3,newdata=trainData3)\n",
    "\n",
    "set.seed(2018)\n",
    "splitIndex3=createDataPartition(train4$target, p=.70, list=FALSE, times=1)\n",
    "train_data3=train4[splitIndex3,]\n",
    "test3=train4[-splitIndex3,]\n",
    "model4=train(target~.,data=train_data3,method=\"rpart\")\n",
    "pred4=predict(model4,test3)\n",
    "cm4=confusionMatrix(pred4,test3$target, positive=\" >50K\")\n",
    "cm4$overall['Accuracy']\n",
    "cm4$byClass['Balanced Accuracy']\n",
    "\n",
    "model5=ranger(target ~., data = train_data3)\n",
    "pred5=predict(model5,test3)$predictions\n",
    "cm5=confusionMatrix(pred5,test3$target,positive=\" >50K\")\n",
    "cm5$overall['Accuracy']\n",
    "cm5$byClass['Balanced Accuracy']"
   ]
  },
  {
   "cell_type": "markdown",
   "metadata": {},
   "source": [
    "Redid #6 with only scaling and centering the non-encoded variables. Rebuilt the model and reported the models' performances (the accuracy and balanced accuracy)"
   ]
  },
  {
   "cell_type": "code",
   "execution_count": 12,
   "metadata": {},
   "outputs": [
    {
     "name": "stderr",
     "output_type": "stream",
     "text": [
      "Warning message in model.frame.default(Terms, newdata, na.action = na.action, xlev = object$lvls):\n",
      "\"variable 'target' is not a factor\""
     ]
    },
    {
     "data": {
      "text/html": [
       "<strong>Accuracy:</strong> 0.833128583128583"
      ],
      "text/latex": [
       "\\textbf{Accuracy:} 0.833128583128583"
      ],
      "text/markdown": [
       "**Accuracy:** 0.833128583128583"
      ],
      "text/plain": [
       " Accuracy \n",
       "0.8331286 "
      ]
     },
     "metadata": {},
     "output_type": "display_data"
    },
    {
     "data": {
      "text/html": [
       "<strong>Balanced Accuracy:</strong> 0.711261365387579"
      ],
      "text/latex": [
       "\\textbf{Balanced Accuracy:} 0.711261365387579"
      ],
      "text/markdown": [
       "**Balanced Accuracy:** 0.711261365387579"
      ],
      "text/plain": [
       "Balanced Accuracy \n",
       "        0.7112614 "
      ]
     },
     "metadata": {},
     "output_type": "display_data"
    },
    {
     "data": {
      "text/html": [
       "<strong>Accuracy:</strong> 0.859336609336609"
      ],
      "text/latex": [
       "\\textbf{Accuracy:} 0.859336609336609"
      ],
      "text/markdown": [
       "**Accuracy:** 0.859336609336609"
      ],
      "text/plain": [
       " Accuracy \n",
       "0.8593366 "
      ]
     },
     "metadata": {},
     "output_type": "display_data"
    },
    {
     "data": {
      "text/html": [
       "<strong>Balanced Accuracy:</strong> 0.773812275719349"
      ],
      "text/latex": [
       "\\textbf{Balanced Accuracy:} 0.773812275719349"
      ],
      "text/markdown": [
       "**Balanced Accuracy:** 0.773812275719349"
      ],
      "text/plain": [
       "Balanced Accuracy \n",
       "        0.7738123 "
      ]
     },
     "metadata": {},
     "output_type": "display_data"
    }
   ],
   "source": [
    "standardized4= preProcess(df3,method=c('center','scale'))\n",
    "train5=predict(standardized4,newdata=df3)\n",
    "\n",
    "dummies_model=dummyVars(target ~ ., data=train5)\n",
    "trainData_mat4=predict(dummies_model, newdata = train5)\n",
    "trainData4= data.frame(trainData_mat4)\n",
    "trainData4$target=train5$target\n",
    "\n",
    "set.seed(2018)\n",
    "splitIndex4=createDataPartition(trainData4$target, p=.70, list=FALSE, times=1)\n",
    "train_data4=trainData4[splitIndex4,]\n",
    "test4=trainData4[-splitIndex4,]\n",
    "model5=train(target~.,data=train_data4,method=\"rpart\")\n",
    "pred5=predict(model5,test4)\n",
    "cm5=confusionMatrix(pred5,test4$target, positive=\" >50K\")\n",
    "cm5$overall['Accuracy']\n",
    "cm5$byClass['Balanced Accuracy']\n",
    "\n",
    "model6=ranger(target ~., data = train_data4)\n",
    "pred6=predict(model6,test4)$predictions\n",
    "cm6=confusionMatrix(pred6,test4$target,positive=\" >50K\")\n",
    "cm6$overall['Accuracy']\n",
    "cm6$byClass['Balanced Accuracy']"
   ]
  },
  {
   "cell_type": "markdown",
   "metadata": {},
   "source": [
    "Redid #5 with a different encoding method. Rebuilt the model and reported the models' performances (the accuracy and balanced accuracy)."
   ]
  },
  {
   "cell_type": "code",
   "execution_count": 13,
   "metadata": {},
   "outputs": [
    {
     "data": {
      "text/html": [
       "<strong>Accuracy:</strong> 0.8252457002457"
      ],
      "text/latex": [
       "\\textbf{Accuracy:} 0.8252457002457"
      ],
      "text/markdown": [
       "**Accuracy:** 0.8252457002457"
      ],
      "text/plain": [
       " Accuracy \n",
       "0.8252457 "
      ]
     },
     "metadata": {},
     "output_type": "display_data"
    },
    {
     "data": {
      "text/html": [
       "<strong>Balanced Accuracy:</strong> 0.680521156682738"
      ],
      "text/latex": [
       "\\textbf{Balanced Accuracy:} 0.680521156682738"
      ],
      "text/markdown": [
       "**Balanced Accuracy:** 0.680521156682738"
      ],
      "text/plain": [
       "Balanced Accuracy \n",
       "        0.6805212 "
      ]
     },
     "metadata": {},
     "output_type": "display_data"
    },
    {
     "data": {
      "text/html": [
       "<strong>Accuracy:</strong> 0.812141687141687"
      ],
      "text/latex": [
       "\\textbf{Accuracy:} 0.812141687141687"
      ],
      "text/markdown": [
       "**Accuracy:** 0.812141687141687"
      ],
      "text/plain": [
       " Accuracy \n",
       "0.8121417 "
      ]
     },
     "metadata": {},
     "output_type": "display_data"
    },
    {
     "data": {
      "text/html": [
       "<strong>Balanced Accuracy:</strong> 0.611212931774652"
      ],
      "text/latex": [
       "\\textbf{Balanced Accuracy:} 0.611212931774652"
      ],
      "text/markdown": [
       "**Balanced Accuracy:** 0.611212931774652"
      ],
      "text/plain": [
       "Balanced Accuracy \n",
       "        0.6112129 "
      ]
     },
     "metadata": {},
     "output_type": "display_data"
    }
   ],
   "source": [
    "df3$workclass=is.numeric(df3$workclass)\n",
    "df3$education=is.numeric(df3$education)\n",
    "df3$marital_status=is.numeric(df3$marital_status)\n",
    "df3$occupation=is.numeric(df3$occupation)\n",
    "df3$relationship=is.numeric(df3$relationship)\n",
    "df3$race=is.numeric(df3$race)\n",
    "df3$sex=is.numeric(df3$sex)\n",
    "df3$native_country=is.numeric(df3$native_country)\n",
    "\n",
    "standardized5= preProcess(df3,method=c('center','scale'))\n",
    "train6=predict(standardized5,newdata=df3)\n",
    "\n",
    "set.seed(2018)\n",
    "splitIndex5=createDataPartition(train6$target, p=.70, list=FALSE, times=1)\n",
    "train_data5=train6[splitIndex5,]\n",
    "test5=train6[-splitIndex5,]\n",
    "model7=train(target~.,data=train_data5,method=\"rpart\")\n",
    "pred7=predict(model7,test5)\n",
    "cm7=confusionMatrix(pred7,test5$target, positive=\" >50K\")\n",
    "cm7$overall['Accuracy']\n",
    "cm7$byClass['Balanced Accuracy']\n",
    "\n",
    "model8=ranger(target ~., data = train_data5)\n",
    "pred8=predict(model8,test5)$predictions\n",
    "cm8=confusionMatrix(pred8,test5$target,positive=\" >50K\")\n",
    "cm8$overall['Accuracy']\n",
    "cm8$byClass['Balanced Accuracy']"
   ]
  },
  {
   "cell_type": "markdown",
   "metadata": {},
   "source": [
    "Skipped #4 to rebuild the models."
   ]
  },
  {
   "cell_type": "code",
   "execution_count": 14,
   "metadata": {},
   "outputs": [
    {
     "name": "stderr",
     "output_type": "stream",
     "text": [
      "Warning message in model.frame.default(Terms, newdata, na.action = na.action, xlev = object$lvls):\n",
      "\"variable 'target' is not a factor\"Warning message in preProcess.default(trainData6, method = c(\"center\", \"scale\")):\n",
      "\"These variables have zero variances: workclass..., occupation..., native_country...\""
     ]
    },
    {
     "data": {
      "text/html": [
       "<strong>Accuracy:</strong> 0.833128583128583"
      ],
      "text/latex": [
       "\\textbf{Accuracy:} 0.833128583128583"
      ],
      "text/markdown": [
       "**Accuracy:** 0.833128583128583"
      ],
      "text/plain": [
       " Accuracy \n",
       "0.8331286 "
      ]
     },
     "metadata": {},
     "output_type": "display_data"
    },
    {
     "data": {
      "text/html": [
       "<strong>Balanced Accuracy:</strong> 0.711261365387579"
      ],
      "text/latex": [
       "\\textbf{Balanced Accuracy:} 0.711261365387579"
      ],
      "text/markdown": [
       "**Balanced Accuracy:** 0.711261365387579"
      ],
      "text/plain": [
       "Balanced Accuracy \n",
       "        0.7112614 "
      ]
     },
     "metadata": {},
     "output_type": "display_data"
    },
    {
     "data": {
      "text/html": [
       "<strong>Accuracy:</strong> 0.861588861588862"
      ],
      "text/latex": [
       "\\textbf{Accuracy:} 0.861588861588862"
      ],
      "text/markdown": [
       "**Accuracy:** 0.861588861588862"
      ],
      "text/plain": [
       " Accuracy \n",
       "0.8615889 "
      ]
     },
     "metadata": {},
     "output_type": "display_data"
    },
    {
     "data": {
      "text/html": [
       "<strong>Balanced Accuracy:</strong> 0.779650452413975"
      ],
      "text/latex": [
       "\\textbf{Balanced Accuracy:} 0.779650452413975"
      ],
      "text/markdown": [
       "**Balanced Accuracy:** 0.779650452413975"
      ],
      "text/plain": [
       "Balanced Accuracy \n",
       "        0.7796505 "
      ]
     },
     "metadata": {},
     "output_type": "display_data"
    }
   ],
   "source": [
    "dummies_model=dummyVars(target ~ ., data=df2)\n",
    "trainData_mat6=predict(dummies_model, newdata = df2)\n",
    "trainData6= data.frame(trainData_mat6)\n",
    "trainData6$target=df2$target\n",
    "\n",
    "standardized6= preProcess(trainData6,method=c('center','scale'))\n",
    "train7=predict(standardized6,newdata=trainData6)\n",
    "\n",
    "set.seed(2018)\n",
    "splitIndex6=createDataPartition(train7$target, p=.70, list=FALSE, times=1)\n",
    "train_data6=train7[splitIndex6,]\n",
    "test6=train7[-splitIndex6,]\n",
    "model9=train(target~.,data=train_data6,method=\"rpart\")\n",
    "pred9=predict(model9,test6)\n",
    "cm9=confusionMatrix(pred9,test6$target, positive=\" >50K\")\n",
    "cm9$overall['Accuracy']\n",
    "cm9$byClass['Balanced Accuracy']\n",
    "\n",
    "model10=ranger(target ~., data = train_data6)\n",
    "pred10=predict(model10,test6)$predictions\n",
    "cm10=confusionMatrix(pred10,test6$target,positive=\" >50K\")\n",
    "cm10$overall['Accuracy']\n",
    "cm10$byClass['Balanced Accuracy']"
   ]
  },
  {
   "cell_type": "code",
   "execution_count": null,
   "metadata": {},
   "outputs": [],
   "source": []
  }
 ],
 "metadata": {
  "kernelspec": {
   "display_name": "R",
   "language": "R",
   "name": "ir"
  },
  "language_info": {
   "codemirror_mode": "r",
   "file_extension": ".r",
   "mimetype": "text/x-r-source",
   "name": "R",
   "pygments_lexer": "r",
   "version": "3.5.1"
  }
 },
 "nbformat": 4,
 "nbformat_minor": 2
}
