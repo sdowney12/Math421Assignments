{
 "cells": [
  {
   "cell_type": "markdown",
   "metadata": {},
   "source": [
    "### This set of functions was written as a part of an exercise in building R packages."
   ]
  },
  {
   "cell_type": "markdown",
   "metadata": {},
   "source": [
    "This function takes in a dataset and either imputes missing values or removes rows that contain missing values."
   ]
  },
  {
   "cell_type": "code",
   "execution_count": 1,
   "metadata": {},
   "outputs": [],
   "source": [
    "quick_clean=function(x, method){\n",
    "  imputer=function(x){\n",
    "    if(is.numeric(x)){\n",
    "      x[is.na(x)]=mean(x, na.rm=TRUE)\n",
    "    }else{\n",
    "      levels=unique(x)\n",
    "      x[is.na(x)]=levels[which.max(tabulate(match(x,levels)))]\n",
    "    }\n",
    "    return(x)\n",
    "  }\n",
    "\n",
    "  if (method==\"impute\"){\n",
    "    x=data.frame(lapply(x,imputer))\n",
    "  }else if (method==\"remove\"){\n",
    "    x=na.exclude(x)\n",
    "  }else{\n",
    "    print(\"Error: please input 'impute' or 'remove' as your method\")\n",
    "  }\n",
    "\n",
    "  return(x)\n",
    "}\n"
   ]
  },
  {
   "cell_type": "markdown",
   "metadata": {},
   "source": [
    "This function takes in a training dataset, a testing dataset, and a target variable and outputs a random forest and its corresponding accuracy score"
   ]
  },
  {
   "cell_type": "code",
   "execution_count": 2,
   "metadata": {},
   "outputs": [],
   "source": [
    "quick_model=function(train,test,y){\n",
    "  library(ranger)\n",
    "  names(train)[names(train)==y]='target'\n",
    "  names(test)[names(test)==y]='target'\n",
    "  model=ranger(target ~.,data= train)\n",
    "  pred=predict(model, data = test)$predictions\n",
    "  cm=confusionMatrix(pred, test$target, positive = \"1\")\n",
    "  return (cm$overall['Accuracy'])\n",
    "}"
   ]
  },
  {
   "cell_type": "markdown",
   "metadata": {},
   "source": [
    "This function takes in a dataset and a number that corresponds to a certain output of visualizations"
   ]
  },
  {
   "cell_type": "code",
   "execution_count": 3,
   "metadata": {},
   "outputs": [],
   "source": [
    "quick_visual=function(x, set){\n",
    "  library(ggplot2)\n",
    "\n",
    "  if(set==1){\n",
    "    for (i in 1:ncol(x)){\n",
    "      if (!is.numeric(x[,i]) & nlevels(x[,i])<5){\n",
    "        for(j in 1:ncol(x)){\n",
    "          if (!is.numeric(x[,j]) & names(x)[j]!=names(x)[i] & nlevels(x[,j])<5){\n",
    "            chart=ggplot(x)+geom_bar(mapping=aes(x=x[,i],fill=x[,j]),position=\"dodge\")+labs(x=names(x)[i],fill=names(x)[j])\n",
    "            print(chart)\n",
    "          }\n",
    "        }\n",
    "      }\n",
    "    }\n",
    "  }else if(set==2){\n",
    "    for (i in 1:ncol(x)){\n",
    "      if (is.numeric(x[,i])){\n",
    "        for(j in 1:ncol(x)){\n",
    "          if (!is.numeric(x[,j])& nlevels(x[,j])<5){\n",
    "            chart=ggplot(data=x)+geom_density(mapping=aes(x=x[,i],color=x[,j]))+labs(x=names(x)[i],color=names(x)[j])\n",
    "            print(chart)\n",
    "          }\n",
    "        }\n",
    "      }\n",
    "    }\n",
    "\n",
    "  }else if(set==3){\n",
    "    for (i in 1:ncol(x)){\n",
    "      if (is.numeric(x[,i])){\n",
    "        for(j in 1:ncol(x)){\n",
    "          if (is.numeric(x[,j]) & names(x)[j]!=names(x)[i]){\n",
    "            chart=ggplot(data=x)+geom_point(mapping=aes(x=x[,i],y=x[,j]))+labs(x=names(x)[i],y=names(x)[j])\n",
    "            print(chart)\n",
    "          }\n",
    "        }\n",
    "      }\n",
    "    }\n",
    "  }else{\n",
    "    print(\"Please input a number between 1 and 3 to recieve graph outputs.\")\n",
    "  }\n",
    "}"
   ]
  },
  {
   "cell_type": "code",
   "execution_count": null,
   "metadata": {},
   "outputs": [],
   "source": []
  }
 ],
 "metadata": {
  "kernelspec": {
   "display_name": "R",
   "language": "R",
   "name": "ir"
  },
  "language_info": {
   "codemirror_mode": "r",
   "file_extension": ".r",
   "mimetype": "text/x-r-source",
   "name": "R",
   "pygments_lexer": "r",
   "version": "3.5.1"
  }
 },
 "nbformat": 4,
 "nbformat_minor": 2
}
