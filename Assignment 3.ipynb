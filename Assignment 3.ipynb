{
 "cells": [
  {
   "cell_type": "markdown",
   "metadata": {},
   "source": [
    "I set up my program by loading in the ggplot2 , reading in the Titanic training dataset, and fixing the varible types that were loaded incorrectly"
   ]
  },
  {
   "cell_type": "code",
   "execution_count": 11,
   "metadata": {},
   "outputs": [],
   "source": [
    "library(ggplot2)\n",
    "titanic=read.csv(\"train.csv\")\n",
    "\n",
    "titanic$Survived=factor(titanic$Survived)\n",
    "titanic$Pclass=factor(titanic$Pclass)\n",
    "titanic$PassengerId=factor(titanic$PassengerId)"
   ]
  },
  {
   "cell_type": "markdown",
   "metadata": {},
   "source": [
    "Checking for missing data, and replacing the missing ages with the mean of the column and removing the rows that have a missing Cabin or Embarked value"
   ]
  },
  {
   "cell_type": "code",
   "execution_count": 12,
   "metadata": {},
   "outputs": [
    {
     "data": {
      "text/plain": [
       "  PassengerId  Survived Pclass                                     Name    \n",
       " 1      :  1   0:549    1:216   Abbing, Mr. Anthony                  :  1  \n",
       " 2      :  1   1:342    2:184   Abbott, Mr. Rossmore Edward          :  1  \n",
       " 3      :  1            3:491   Abbott, Mrs. Stanton (Rosa Hunt)     :  1  \n",
       " 4      :  1                    Abelson, Mr. Samuel                  :  1  \n",
       " 5      :  1                    Abelson, Mrs. Samuel (Hannah Wizosky):  1  \n",
       " 6      :  1                    Adahl, Mr. Mauritz Nils Martin       :  1  \n",
       " (Other):885                    (Other)                              :885  \n",
       "     Sex           Age            SibSp           Parch             Ticket   \n",
       " female:314   Min.   : 0.42   Min.   :0.000   Min.   :0.0000   1601    :  7  \n",
       " male  :577   1st Qu.:20.12   1st Qu.:0.000   1st Qu.:0.0000   347082  :  7  \n",
       "              Median :28.00   Median :0.000   Median :0.0000   CA. 2343:  7  \n",
       "              Mean   :29.70   Mean   :0.523   Mean   :0.3816   3101295 :  6  \n",
       "              3rd Qu.:38.00   3rd Qu.:1.000   3rd Qu.:0.0000   347088  :  6  \n",
       "              Max.   :80.00   Max.   :8.000   Max.   :6.0000   CA 2144 :  6  \n",
       "              NA's   :177                                      (Other) :852  \n",
       "      Fare                Cabin     Embarked\n",
       " Min.   :  0.00              :687    :  2   \n",
       " 1st Qu.:  7.91   B96 B98    :  4   C:168   \n",
       " Median : 14.45   C23 C25 C27:  4   Q: 77   \n",
       " Mean   : 32.20   G6         :  4   S:644   \n",
       " 3rd Qu.: 31.00   C22 C26    :  3           \n",
       " Max.   :512.33   D          :  3           \n",
       "                  (Other)    :186           "
      ]
     },
     "metadata": {},
     "output_type": "display_data"
    }
   ],
   "source": [
    "summary(titanic)\n",
    "\n",
    "titanic[is.na(titanic$Age),]$Age=mean(titanic$Age, na.rm=TRUE)\n",
    "titanic[titanic$Embarked==\"\",]$Embarked=NA\n",
    "titanic[titanic$Cabin==\"\",]$Cabin=NA\n",
    "titanic<-na.exclude(titanic)"
   ]
  },
  {
   "cell_type": "markdown",
   "metadata": {},
   "source": [
    "Removing unnecessary columns"
   ]
  },
  {
   "cell_type": "code",
   "execution_count": 13,
   "metadata": {},
   "outputs": [],
   "source": [
    "titanic$Name=NULL\n",
    "titanic$PassengerId=NULL\n",
    "titanic$Ticket=NULL\n",
    "titanic$Cabin=NULL"
   ]
  },
  {
   "cell_type": "markdown",
   "metadata": {},
   "source": [
    "Calculating the mean age"
   ]
  },
  {
   "cell_type": "code",
   "execution_count": 4,
   "metadata": {},
   "outputs": [
    {
     "data": {
      "text/html": [
       "35.1123922539313"
      ],
      "text/latex": [
       "35.1123922539313"
      ],
      "text/markdown": [
       "35.1123922539313"
      ],
      "text/plain": [
       "[1] 35.11239"
      ]
     },
     "metadata": {},
     "output_type": "display_data"
    }
   ],
   "source": [
    "mean(titanic$Age)"
   ]
  },
  {
   "cell_type": "markdown",
   "metadata": {},
   "source": [
    "Calculating the mean age of the female passengers"
   ]
  },
  {
   "cell_type": "code",
   "execution_count": 5,
   "metadata": {},
   "outputs": [
    {
     "data": {
      "text/html": [
       "32.4567770897833"
      ],
      "text/latex": [
       "32.4567770897833"
      ],
      "text/markdown": [
       "32.4567770897833"
      ],
      "text/plain": [
       "[1] 32.45678"
      ]
     },
     "metadata": {},
     "output_type": "display_data"
    }
   ],
   "source": [
    "mean(titanic[titanic$Sex==\"female\",]$Age)"
   ]
  },
  {
   "cell_type": "markdown",
   "metadata": {},
   "source": [
    "Calculating the median fare of passengers in Class 1"
   ]
  },
  {
   "cell_type": "code",
   "execution_count": 6,
   "metadata": {},
   "outputs": [
    {
     "data": {
      "text/html": [
       "66.6"
      ],
      "text/latex": [
       "66.6"
      ],
      "text/markdown": [
       "66.6"
      ],
      "text/plain": [
       "[1] 66.6"
      ]
     },
     "metadata": {},
     "output_type": "display_data"
    }
   ],
   "source": [
    "median(titanic[titanic$Pclass==\"1\",]$Fare)"
   ]
  },
  {
   "cell_type": "markdown",
   "metadata": {},
   "source": [
    "Calculating the median fare of female passengers not in Class 1"
   ]
  },
  {
   "cell_type": "code",
   "execution_count": 7,
   "metadata": {},
   "outputs": [
    {
     "data": {
      "text/html": [
       "12.7375"
      ],
      "text/latex": [
       "12.7375"
      ],
      "text/markdown": [
       "12.7375"
      ],
      "text/plain": [
       "[1] 12.7375"
      ]
     },
     "metadata": {},
     "output_type": "display_data"
    }
   ],
   "source": [
    "median(titanic[titanic$Sex==\"female\"&titanic$Pclass!=\"1\",]$Fare)"
   ]
  },
  {
   "cell_type": "markdown",
   "metadata": {},
   "source": [
    "Calculating the median age of survived female passengers in Class 1 or 2"
   ]
  },
  {
   "cell_type": "code",
   "execution_count": 8,
   "metadata": {},
   "outputs": [
    {
     "data": {
      "text/html": [
       "32"
      ],
      "text/latex": [
       "32"
      ],
      "text/markdown": [
       "32"
      ],
      "text/plain": [
       "[1] 32"
      ]
     },
     "metadata": {},
     "output_type": "display_data"
    }
   ],
   "source": [
    "median(titanic[titanic$Survived==\"1\"&titanic$Sex==\"female\"&titanic$Pclass!=\"3\",]$Age)"
   ]
  },
  {
   "cell_type": "markdown",
   "metadata": {},
   "source": [
    "Calculating the mean fare of survived teenage female passengers"
   ]
  },
  {
   "cell_type": "code",
   "execution_count": 9,
   "metadata": {},
   "outputs": [
    {
     "data": {
      "text/html": [
       "107.540707692308"
      ],
      "text/latex": [
       "107.540707692308"
      ],
      "text/markdown": [
       "107.540707692308"
      ],
      "text/plain": [
       "[1] 107.5407"
      ]
     },
     "metadata": {},
     "output_type": "display_data"
    }
   ],
   "source": [
    "mean(titanic[titanic$Survived==\"1\"&titanic$Sex==\"female\"&titanic$Age>12&titanic$Age<20,]$Fare)"
   ]
  },
  {
   "cell_type": "markdown",
   "metadata": {},
   "source": [
    "Calculating the mean fare of survived teenage female passengers for each class separately"
   ]
  },
  {
   "cell_type": "code",
   "execution_count": 14,
   "metadata": {},
   "outputs": [
    {
     "data": {
      "text/html": [
       "107.540707692308"
      ],
      "text/latex": [
       "107.540707692308"
      ],
      "text/markdown": [
       "107.540707692308"
      ],
      "text/plain": [
       "[1] 107.5407"
      ]
     },
     "metadata": {},
     "output_type": "display_data"
    },
    {
     "data": {
      "text/html": [
       "NaN"
      ],
      "text/latex": [
       "NaN"
      ],
      "text/markdown": [
       "NaN"
      ],
      "text/plain": [
       "[1] NaN"
      ]
     },
     "metadata": {},
     "output_type": "display_data"
    },
    {
     "data": {
      "text/html": [
       "NaN"
      ],
      "text/latex": [
       "NaN"
      ],
      "text/markdown": [
       "NaN"
      ],
      "text/plain": [
       "[1] NaN"
      ]
     },
     "metadata": {},
     "output_type": "display_data"
    }
   ],
   "source": [
    "mean(titanic[titanic$Survived==\"1\"&titanic$Sex==\"female\"&titanic$Age>12&titanic$Age<20&titanic$Pclass==\"1\",]$Fare)\n",
    "\n",
    "mean(titanic[titanic$Survived==\"1\"&titanic$Sex==\"female\"&titanic$Age>12&titanic$Age<20&titanic$Pclass==\"2\",]$Fare)\n",
    "\n",
    "mean(titanic[titanic$Survived==\"1\"&titanic$Sex==\"female\"&titanic$Age>12&titanic$Age<20&titanic$Pclass==\"3\",]$Fare)"
   ]
  },
  {
   "cell_type": "markdown",
   "metadata": {},
   "source": [
    "Calculating the ratio of Survived:Not Survived passengers that paid more than the average fare"
   ]
  },
  {
   "cell_type": "code",
   "execution_count": 15,
   "metadata": {},
   "outputs": [
    {
     "data": {
      "text/html": [
       "3"
      ],
      "text/latex": [
       "3"
      ],
      "text/markdown": [
       "3"
      ],
      "text/plain": [
       "[1] 3"
      ]
     },
     "metadata": {},
     "output_type": "display_data"
    }
   ],
   "source": [
    "surv=titanic[titanic$Survived==\"1\"&titanic$Fare>mean(titanic$Fare),]\n",
    "notsurv=titanic[titanic$Survived==\"0\"&titanic$Fare>mean(titanic$Fare),]\n",
    "nrow(surv)/nrow(notsurv)"
   ]
  },
  {
   "cell_type": "markdown",
   "metadata": {},
   "source": [
    "Adding a column to standardize the fare"
   ]
  },
  {
   "cell_type": "code",
   "execution_count": 16,
   "metadata": {},
   "outputs": [],
   "source": [
    "titanic$sfare=(titanic$Fare-mean(titanic$Fare))/sd(titanic$Fare)"
   ]
  },
  {
   "cell_type": "markdown",
   "metadata": {},
   "source": [
    "Bar graph of Sex and Survived for passengers that are younger than the average age"
   ]
  },
  {
   "cell_type": "code",
   "execution_count": 17,
   "metadata": {},
   "outputs": [
    {
     "data": {},
     "metadata": {},
     "output_type": "display_data"
    },
    {
     "data": {
      "image/png": "[encoded data removed]",
      "text/plain": [
       "plot without title"
      ]
     },
     "metadata": {},
     "output_type": "display_data",
     "source": "R display func"
    }
   ],
   "source": [
    "young=titanic[titanic$Age<mean(titanic$Age),]\n",
    "ggplot(data=young)+geom_bar(mapping=aes(x=Survived, fill=Sex),position=\"dodge\")"
   ]
  },
  {
   "cell_type": "markdown",
   "metadata": {},
   "source": [
    "Density plot of age for those who survived and paid above the average fare"
   ]
  },
  {
   "cell_type": "code",
   "execution_count": 18,
   "metadata": {},
   "outputs": [
    {
     "data": {},
     "metadata": {},
     "output_type": "display_data"
    },
    {
     "data": {
      "image/png": "[encoded data removed]",
      "text/plain": [
       "plot without title"
      ]
     },
     "metadata": {},
     "output_type": "display_data",
     "source": "R display func"
    }
   ],
   "source": [
    "pass=titanic[titanic$Survived==\"1\"&titanic$Fare>mean(titanic$Fare),]\n",
    "ggplot(data=pass)+geom_density(mapping=aes(x=Age))"
   ]
  },
  {
   "cell_type": "markdown",
   "metadata": {},
   "source": [
    "Density plot of age for passengers that embarked in Southampton and Queenstown"
   ]
  },
  {
   "cell_type": "code",
   "execution_count": 19,
   "metadata": {},
   "outputs": [
    {
     "data": {},
     "metadata": {},
     "output_type": "display_data"
    },
    {
     "data": {
      "image/png": "[encoded data removed]",
      "text/plain": [
       "plot without title"
      ]
     },
     "metadata": {},
     "output_type": "display_data",
     "source": "R display func"
    }
   ],
   "source": [
    "location=titanic[titanic$Embarked==\"Q\"|titanic$Embarked==\"S\",]\n",
    "ggplot(data=location)+geom_density(mapping=aes(x=Age,color=Embarked))"
   ]
  },
  {
   "cell_type": "markdown",
   "metadata": {},
   "source": [
    "Adding a new cfare categorical variable"
   ]
  },
  {
   "cell_type": "code",
   "execution_count": 20,
   "metadata": {},
   "outputs": [],
   "source": [
    "titanic$cfare=ifelse(titanic$Fare<mean(titanic$Fare),\"cheap\",\"expensive\")"
   ]
  },
  {
   "cell_type": "markdown",
   "metadata": {},
   "source": [
    "Adding a new cage categorical variable"
   ]
  },
  {
   "cell_type": "code",
   "execution_count": 21,
   "metadata": {},
   "outputs": [],
   "source": [
    "titanic$cage=\"NA\"\n",
    "titanic[titanic$Age>=0&titanic$Age<11,]$cage=\"0\"\n",
    "titanic[titanic$Age>=11&titanic$Age<21,]$cage=\"1\"\n",
    "titanic[titanic$Age>=21&titanic$Age<31,]$cage=\"2\"\n",
    "titanic[titanic$Age>=31&titanic$Age<41,]$cage=\"3\"\n",
    "titanic[titanic$Age>=41&titanic$Age<51,]$cage=\"4\"\n",
    "titanic[titanic$Age>=51&titanic$Age<61,]$cage=\"5\"\n",
    "titanic[titanic$Age>=61&titanic$Age<71,]$cage=\"6\"\n",
    "titanic[titanic$Age>=71&titanic$Age<81,]$cage=\"7\""
   ]
  },
  {
   "cell_type": "markdown",
   "metadata": {},
   "source": [
    "Bar graph of cage and Survived for passengers who paid more than the average fare"
   ]
  },
  {
   "cell_type": "code",
   "execution_count": 22,
   "metadata": {},
   "outputs": [
    {
     "data": {},
     "metadata": {},
     "output_type": "display_data"
    },
    {
     "data": {
      "image/png": "[encoded data removed]",
      "text/plain": [
       "plot without title"
      ]
     },
     "metadata": {},
     "output_type": "display_data",
     "source": "R display func"
    }
   ],
   "source": [
    "paymore=titanic[titanic$Fare>mean(titanic$Fare),]\n",
    "ggplot(data=paymore)+geom_bar(mapping=aes(x=Survived,fill=cage),position=\"dodge\")"
   ]
  },
  {
   "cell_type": "markdown",
   "metadata": {},
   "source": [
    "Bar graph of cage and Survived for passengers who paid more than the average fare, split by Pclass"
   ]
  },
  {
   "cell_type": "code",
   "execution_count": 23,
   "metadata": {},
   "outputs": [
    {
     "data": {},
     "metadata": {},
     "output_type": "display_data"
    },
    {
     "data": {
      "image/png": "[encoded data removed]",
      "text/plain": [
       "plot without title"
      ]
     },
     "metadata": {},
     "output_type": "display_data",
     "source": "R display func"
    }
   ],
   "source": [
    "ggplot(data=paymore)+geom_bar(mapping=aes(x=Survived,fill=cage),position=\"dodge\")+ \n",
    "  facet_wrap(~ Pclass, nrow = 2)"
   ]
  },
  {
   "cell_type": "code",
   "execution_count": null,
   "metadata": {},
   "outputs": [],
   "source": []
  }
 ],
 "metadata": {
  "kernelspec": {
   "display_name": "R",
   "language": "R",
   "name": "ir"
  },
  "language_info": {
   "codemirror_mode": "r",
   "file_extension": ".r",
   "mimetype": "text/x-r-source",
   "name": "R",
   "pygments_lexer": "r",
   "version": "3.5.1"
  }
 },
 "nbformat": 4,
 "nbformat_minor": 2
}
