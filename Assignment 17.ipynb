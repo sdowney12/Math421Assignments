{
 "cells": [
  {
   "cell_type": "markdown",
   "metadata": {},
   "source": [
    "### This assignment reads in a data set containg information about car accidents. It then cleans the data and builds some predictive models."
   ]
  },
  {
   "cell_type": "markdown",
   "metadata": {},
   "source": [
    "Loading the dataset and importing the necessary libraries"
   ]
  },
  {
   "cell_type": "code",
   "execution_count": 1,
   "metadata": {},
   "outputs": [
    {
     "name": "stderr",
     "output_type": "stream",
     "text": [
      "Loading required package: lattice\n",
      "Loading required package: Matrix\n",
      "Loading required package: foreach\n",
      "Loaded glmnet 2.0-16\n",
      "\n",
      "Loading required package: carData\n"
     ]
    }
   ],
   "source": [
    "cars = read.csv('c2015.csv')\n",
    "\n",
    "library(ggplot2)\n",
    "library(caret)\n",
    "library(ranger)\n",
    "library(Assignment14)\n",
    "library(glmnet)\n",
    "library(car)"
   ]
  },
  {
   "cell_type": "markdown",
   "metadata": {},
   "source": [
    "Checking to make sure data was loaded correctly and fixing any columns that were wrongly labeled"
   ]
  },
  {
   "cell_type": "code",
   "execution_count": 2,
   "metadata": {},
   "outputs": [
    {
     "name": "stdout",
     "output_type": "stream",
     "text": [
      "'data.frame':\t80587 obs. of  28 variables:\n",
      " $ STATE   : Factor w/ 51 levels \"Alabama\",\"Alaska\",..: 1 1 1 1 1 1 1 1 1 1 ...\n",
      " $ ST_CASE : int  10001 10002 10003 10003 10004 10005 10005 10006 10006 10007 ...\n",
      " $ VEH_NO  : int  1 1 1 1 1 1 2 1 1 1 ...\n",
      " $ PER_NO  : int  1 1 1 2 1 1 1 1 2 1 ...\n",
      " $ COUNTY  : int  127 83 11 11 45 45 45 111 111 89 ...\n",
      " $ DAY     : int  1 1 1 1 4 7 7 8 8 8 ...\n",
      " $ MONTH   : Factor w/ 12 levels \"April\",\"August\",..: 5 5 5 5 5 5 5 5 5 5 ...\n",
      " $ HOUR    : int  2 22 1 1 0 7 7 9 9 18 ...\n",
      " $ MINUTE  : int  40 13 25 25 57 9 9 59 59 33 ...\n",
      " $ AGE     : Factor w/ 104 levels \"1\",\"10\",\"101\",..: 68 47 28 16 38 20 60 64 12 82 ...\n",
      " $ SEX     : Factor w/ 4 levels \"Female\",\"Male\",..: 2 2 2 1 2 2 2 2 2 2 ...\n",
      " $ PER_TYP : Factor w/ 11 levels \"Bicyclist\",\"Driver of a Motor Vehicle In-Transport\",..: 2 2 2 6 2 2 2 2 6 2 ...\n",
      " $ INJ_SEV : Factor w/ 8 levels \"Died Prior to Crash*\",..: 2 2 2 6 2 2 4 2 4 2 ...\n",
      " $ SEAT_POS: Factor w/ 29 levels \"Fourth Seat, Left Side\",..: 6 6 6 9 6 6 6 6 9 6 ...\n",
      " $ DRINKING: Factor w/ 4 levels \"No (Alcohol Not Involved)\",..: 3 1 4 2 4 1 1 1 2 2 ...\n",
      " $ YEAR    : int  2015 2015 2015 2015 2015 2015 2015 2015 2015 2015 ...\n",
      " $ MAN_COLL: Factor w/ 12 levels \"\",\"Angle\",\"Front-to-Front\",..: 5 5 5 5 5 2 2 5 5 5 ...\n",
      " $ OWNER   : Factor w/ 9 levels \"\",\"Driver (in this crash) Not Registered Owner (Other Private Owner Listed)\",..: 3 3 3 3 2 3 7 3 3 3 ...\n",
      " $ MOD_YEAR: Factor w/ 78 levels \"\",\"1923\",\"1929\",..: 63 66 68 68 65 66 75 66 66 62 ...\n",
      " $ TRAV_SP : Factor w/ 135 levels \"\",\"001 MPH\",\"002 MPH\",..: 56 71 81 81 76 16 66 46 46 135 ...\n",
      " $ DEFORMED: Factor w/ 7 levels \"\",\"Disabling Damage\",..: 2 2 2 2 2 2 2 2 2 4 ...\n",
      " $ DAY_WEEK: Factor w/ 7 levels \"Friday\",\"Monday\",..: 5 5 5 5 4 7 7 5 5 5 ...\n",
      " $ ROUTE   : Factor w/ 7 levels \"County Road\",..: 5 2 6 6 5 6 6 1 1 6 ...\n",
      " $ LATITUDE: num  33.9 34.9 32.1 32.1 31.4 ...\n",
      " $ LONGITUD: num  -87.3 -86.9 -85.8 -85.8 -85.5 ...\n",
      " $ HARM_EV : Factor w/ 50 levels \"Boulder\",\"Bridge Overhead Structure\",..: 12 11 46 46 25 26 26 40 40 29 ...\n",
      " $ LGT_COND: Factor w/ 9 levels \"Dark - Lighted\",..: 2 2 2 2 2 5 5 5 5 1 ...\n",
      " $ WEATHER : Factor w/ 12 levels \"Blowi\",\"Clear\",..: 2 3 2 2 3 2 2 2 2 2 ...\n"
     ]
    }
   ],
   "source": [
    "str(cars)\n",
    "\n",
    "cars$AGE=as.integer(cars$AGE)\n",
    "cars$MOD_YEAR=as.integer(cars$MOD_YEAR)"
   ]
  },
  {
   "cell_type": "markdown",
   "metadata": {},
   "source": [
    "Pulling out the speed number and convert to an integer"
   ]
  },
  {
   "cell_type": "code",
   "execution_count": 3,
   "metadata": {},
   "outputs": [
    {
     "name": "stderr",
     "output_type": "stream",
     "text": [
      "Warning message in eval(expr, envir, enclos):\n",
      "\"NAs introduced by coercion\""
     ]
    }
   ],
   "source": [
    "cars$TRAV_SP = substr(cars$TRAV_SP, 1, 4)\n",
    "cars$TRAV_SP=as.numeric(as.character(cars$TRAV_SP))"
   ]
  },
  {
   "cell_type": "markdown",
   "metadata": {},
   "source": [
    "Removing certain columns from the data to reduce dimensionality and fixing blank values to read as NAs"
   ]
  },
  {
   "cell_type": "code",
   "execution_count": 4,
   "metadata": {},
   "outputs": [
    {
     "data": {
      "text/plain": [
       "            STATE          ST_CASE           VEH_NO           PER_NO      \n",
       " Texas         : 8275   Min.   : 10001   Min.   : 0.000   Min.   : 1.000  \n",
       " California    : 7622   1st Qu.:121977   1st Qu.: 1.000   1st Qu.: 1.000  \n",
       " Florida       : 7063   Median :270282   Median : 1.000   Median : 1.000  \n",
       " Georgia       : 3294   Mean   :275607   Mean   : 1.389   Mean   : 1.629  \n",
       " North Carolina: 3121   3rd Qu.:420645   3rd Qu.: 2.000   3rd Qu.: 2.000  \n",
       " New York      : 2675   Max.   :560130   Max.   :58.000   Max.   :51.000  \n",
       " (Other)       :48537                                                     \n",
       "     COUNTY            DAY              MONTH            HOUR      \n",
       " Min.   :  1.00   Min.   : 1.00   July     : 7672   Min.   : 0.00  \n",
       " 1st Qu.: 31.00   1st Qu.: 8.00   August   : 7509   1st Qu.: 8.00  \n",
       " Median : 71.00   Median :15.00   October  : 7460   Median :15.00  \n",
       " Mean   : 91.72   Mean   :15.52   December : 7087   Mean   :14.01  \n",
       " 3rd Qu.:115.00   3rd Qu.:23.00   September: 7057   3rd Qu.:19.00  \n",
       " Max.   :999.00   Max.   :31.00   November : 6951   Max.   :99.00  \n",
       "                                  (Other)  :36851                  \n",
       "     MINUTE           AGE              SEX       \n",
       " Min.   : 0.00   Min.   :  1.00   Female :26631  \n",
       " 1st Qu.:14.00   1st Qu.: 21.00   Male   :52598  \n",
       " Median :29.00   Median : 36.00   Not Rep:  389  \n",
       " Mean   :28.42   Mean   : 40.55   Unknown:  969  \n",
       " 3rd Qu.:44.00   3rd Qu.: 56.00                  \n",
       " Max.   :59.00   Max.   :104.00                  \n",
       " NA's   :377                                     \n",
       "                                      PER_TYP     \n",
       " Driver of a Motor Vehicle In-Transport   :48613  \n",
       " Passenger of a Motor Vehicle In-Transport:24646  \n",
       " Pedestrian                               : 5795  \n",
       " Bicyclist                                :  851  \n",
       " Occupant of a Motor Vehicle Not In- Trans:  286  \n",
       " Persons on Personal Conveyances          :  167  \n",
       " (Other)                                  :  229  \n",
       "                        INJ_SEV                              SEAT_POS    \n",
       " Fatal Injury (K)           :35092   Front Seat, Left Side       :48767  \n",
       " No Apparent Injury (O)     :19704   Front Seat, Right Side      :12422  \n",
       " Suspected Minor Injury(B)  : 9045   Not a Motor Vehicle Occupant: 6911  \n",
       " Suspected Serious Injury(A): 8324   Second Seat, Right Side     : 3893  \n",
       " Possible Injury (C)        : 7400   Second Seat, Left Side      : 3842  \n",
       " Unknown                    :  770   Second Seat, Middle         : 1351  \n",
       " (Other)                    :  252   (Other)                     : 3401  \n",
       "                      DRINKING          YEAR     \n",
       " No (Alcohol Not Involved):33577   Min.   :2015  \n",
       " Not Reported             :29556   1st Qu.:2015  \n",
       " Unknown (Police Reported): 9703   Median :2015  \n",
       " Yes (Alcohol Involved)   : 7751   Mean   :2015  \n",
       "                                   3rd Qu.:2015  \n",
       "                                   Max.   :2015  \n",
       "                                                 \n",
       "                                            MAN_COLL    \n",
       " Not a Collision with Motor Vehicle In-Transport:31720  \n",
       " Angle                                          :19210  \n",
       " Front-to-Front                                 :10375  \n",
       " Front-to-Rear                                  : 8338  \n",
       "                                                : 7197  \n",
       " Sideswipe - Same Direction                     : 1869  \n",
       " (Other)                                        : 1878  \n",
       "                                                                      OWNER      \n",
       " Driver (in this crash) was  Registered Owner                            :38284  \n",
       " Driver (in this crash) Not Registered Owner (Other Private Owner Listed):23237  \n",
       " Vehicle Registered as Business/Company/Government Vehicle               : 7708  \n",
       "                                                                         : 7197  \n",
       " Unknown                                                                 : 1629  \n",
       " Not Applicable, Vehicle Not Registered                                  : 1566  \n",
       " (Other)                                                                 :  966  \n",
       "    MOD_YEAR        TRAV_SP                    DEFORMED          DAY_WEEK    \n",
       " Min.   : 1.00   Min.   :  1.00                    : 7197   Friday   :12533  \n",
       " 1st Qu.:59.00   1st Qu.: 39.00   Disabling Damage :55052   Monday   : 9799  \n",
       " Median :64.00   Median : 53.00   Functional Damage: 6475   Saturday :14396  \n",
       " Mean   :59.32   Mean   : 49.88   Minor Damage     : 5176   Sunday   :13040  \n",
       " 3rd Qu.:70.00   3rd Qu.: 65.00   No Damage        : 1144   Thursday :10913  \n",
       " Max.   :78.00   Max.   :150.00   Not Reported     : 4166   Tuesday  : 9709  \n",
       "                 NA's   :54549    Unknown          : 1377   Wednesday:10197  \n",
       "           ROUTE          LATITUDE        LONGITUD      \n",
       " County Road  : 9994   Min.   :19.27   Min.   :-166.55  \n",
       " Interstate   :11252   1st Qu.:32.95   1st Qu.: -98.36  \n",
       " Local Street :16202   Median :36.21   Median : -87.90  \n",
       " Other        : 2431   Mean   :36.52   Mean   : -92.43  \n",
       " State Highway:23516   3rd Qu.:40.56   3rd Qu.: -81.51  \n",
       " U.S. Highway :14107   Max.   :65.18   Max.   : -67.60  \n",
       " Unknown      : 3085   NA's   :479     NA's   :479      \n",
       "                       HARM_EV                    LGT_COND        WEATHER     \n",
       " Motor Vehicle In-Transport:41936   Daylight          :40466   Clear  :57555  \n",
       " Pedestrian                :12380   Dark - Not Lighted:21140   Cloud  :13145  \n",
       " Rollover/Overturn         : 5364   Dark - Lighted    :14600   Rain   : 6296  \n",
       " Tree (Standing Only)      : 3489   Dusk              : 2065   Snow   : 1051  \n",
       " Curb                      : 1939   Dawn              : 1490   Fog,   : 1008  \n",
       " Pedalcyclist              : 1907   Dark - Unknown Lig:  554   Unkno  :  512  \n",
       " (Other)                   :13572   (Other)           :  272   (Other): 1020  "
      ]
     },
     "metadata": {},
     "output_type": "display_data"
    },
    {
     "data": {
      "text/html": [
       "77475"
      ],
      "text/latex": [
       "77475"
      ],
      "text/markdown": [
       "77475"
      ],
      "text/plain": [
       "[1] 77475"
      ]
     },
     "metadata": {},
     "output_type": "display_data"
    }
   ],
   "source": [
    "summary(cars)\n",
    "cars[cars==\"\"]=NA\n",
    "cars$DAY=NULL\n",
    "cars$MINUTE=NULL\n",
    "cars$YEAR=NULL\n",
    "cars$LATITUDE=NULL\n",
    "cars$LONGITUD=NULL\n",
    "cars$COUNTY=NULL\n",
    "cars$HARM_EV=NULL"
   ]
  },
  {
   "cell_type": "markdown",
   "metadata": {},
   "source": [
    "Imputing missing values using a package I built (replaces numeric vars with the mean and categorical vars with the mode."
   ]
  },
  {
   "cell_type": "code",
   "execution_count": 5,
   "metadata": {},
   "outputs": [
    {
     "data": {
      "text/html": [
       "76140"
      ],
      "text/latex": [
       "76140"
      ],
      "text/markdown": [
       "76140"
      ],
      "text/plain": [
       "[1] 76140"
      ]
     },
     "metadata": {},
     "output_type": "display_data"
    },
    {
     "data": {
      "text/html": [
       "0"
      ],
      "text/latex": [
       "0"
      ],
      "text/markdown": [
       "0"
      ],
      "text/plain": [
       "[1] 0"
      ]
     },
     "metadata": {},
     "output_type": "display_data"
    }
   ],
   "source": [
    "sum(is.na(cars))\n",
    "cars_imputed=quick_clean(cars,\"impute\")\n",
    "sum(is.na(cars_imputed))"
   ]
  },
  {
   "cell_type": "markdown",
   "metadata": {},
   "source": [
    "Recoding categorical columns to further reduce dimensionality"
   ]
  },
  {
   "cell_type": "code",
   "execution_count": 7,
   "metadata": {},
   "outputs": [
    {
     "name": "stdout",
     "output_type": "stream",
     "text": [
      "'data.frame':\t80587 obs. of  21 variables:\n",
      " $ STATE   : Factor w/ 51 levels \"Alabama\",\"Alaska\",..: 1 1 1 1 1 1 1 1 1 1 ...\n",
      " $ ST_CASE : num  10001 10002 10003 10003 10004 ...\n",
      " $ VEH_NO  : num  1 1 1 1 1 1 2 1 1 1 ...\n",
      " $ PER_NO  : num  1 1 1 2 1 1 1 1 2 1 ...\n",
      " $ MONTH   : Factor w/ 12 levels \"April\",\"August\",..: 5 5 5 5 5 5 5 5 5 5 ...\n",
      " $ HOUR    : num  2 22 1 1 0 7 7 9 9 18 ...\n",
      " $ AGE     : num  68 47 28 16 38 20 60 64 12 82 ...\n",
      " $ SEX     : Factor w/ 4 levels \"Female\",\"Male\",..: 2 2 2 1 2 2 2 2 2 2 ...\n",
      " $ PER_TYP : Factor w/ 11 levels \"Bicyclist\",\"Driver of a Motor Vehicle In-Transport\",..: 2 2 2 6 2 2 2 2 6 2 ...\n",
      " $ INJ_SEV : Factor w/ 8 levels \"Died Prior to Crash*\",..: 2 2 2 6 2 2 4 2 4 2 ...\n",
      " $ SEAT_POS: Factor w/ 29 levels \"Fourth Seat, Left Side\",..: 6 6 6 9 6 6 6 6 9 6 ...\n",
      " $ DRINKING: Factor w/ 4 levels \"No (Alcohol Not Involved)\",..: 3 1 4 2 4 1 1 1 2 2 ...\n",
      " $ MAN_COLL: Factor w/ 12 levels \"\",\"Angle\",\"Front-to-Front\",..: 5 5 5 5 5 2 2 5 5 5 ...\n",
      " $ OWNER   : Factor w/ 9 levels \"\",\"Driver (in this crash) Not Registered Owner (Other Private Owner Listed)\",..: 3 3 3 3 2 3 7 3 3 3 ...\n",
      " $ MOD_YEAR: num  63 66 68 68 65 66 75 66 66 62 ...\n",
      " $ TRAV_SP : num  55 70 80 80 75 ...\n",
      " $ DEFORMED: Factor w/ 7 levels \"\",\"Disabling Damage\",..: 2 2 2 2 2 2 2 2 2 4 ...\n",
      " $ DAY_WEEK: Factor w/ 7 levels \"Friday\",\"Monday\",..: 5 5 5 5 4 7 7 5 5 5 ...\n",
      " $ ROUTE   : Factor w/ 7 levels \"County Road\",..: 5 2 6 6 5 6 6 1 1 6 ...\n",
      " $ LGT_COND: Factor w/ 9 levels \"Dark - Lighted\",..: 2 2 2 2 2 5 5 5 5 1 ...\n",
      " $ WEATHER : Factor w/ 12 levels \"Blowi\",\"Clear\",..: 2 3 2 2 3 2 2 2 2 2 ...\n"
     ]
    }
   ],
   "source": [
    "str(cars_imputed)\n",
    "\n",
    "NE.set=c(\"Maine\",\"Massachusetts\", \"Rhode Island\", \"Connecticut\", \"New Hampshire\", \"Vermont\", \n",
    "     \"New York\", \"Pennsylvania\", \"New Jersey\")\n",
    "SE.set=c(\"Delaware\", \"Maryland\",\"Dist of Columbia\", \"West Virginia\",\"Virginia\", \"Kentucky\",\n",
    "     \"Tennessee\", \"North Carolina\", \"South Carolina\", \"Georgia\", \"Alabama\", \"Mississippi\", \n",
    "     \"Arkansas\", \"Louisiana\", \"Florida\")\n",
    "MW.set=c(\"Ohio\", \"Indiana\", \"Michigan\", \"Illinois\", \"Missouri\", \"Wisconsin\", \"Minnesota\", \n",
    "     \"Iowa\", \"Kansas\", \"Nebraska\", \"South Dakota\", \"North Dakota\")\n",
    "SW.set=c(\"Texas\", \"Oklahoma\", \"New Mexico\", \"Arizona\")\n",
    "West.set=c(\"Colorado\", \"Wyoming\", \"Montana\", \"Idaho\", \"Washington\", \"Oregon\", \"Utah\", \"Nevada\",\n",
    "       \"California\", \"Alaska\", \"Hawaii\")\n",
    "cars_imputed$STATE=recode(cars_imputed$STATE,\"NE.set='NE'; SE.set='SE'; MW.set='MW'; SW.set='SW'; West.set='West'\")\n",
    "\n",
    "Spring.set=c(\"March\",\"April\",\"May\")\n",
    "Summer.set=c(\"June\",\"July\",\"August\")\n",
    "Autumn.set=c(\"September\",\"October\",\"November\")\n",
    "Winter.set=c(\"December\",\"January\",\"February\")\n",
    "cars_imputed$MONTH=recode(cars_imputed$MONTH,\"Spring.set='Spring'; Summer.set='Summer'; Autumn.set='Autumn'; Winter.set='Winter'\")\n",
    "\n",
    "Bike.set=c(\"Bicyclist\",\"Other Cyclist\")\n",
    "Bystander.set=c(\"Pedestrian\",\"Persons In/On Buildings\")\n",
    "Unknown.set=c(\"Unknown Occupant Type in a Motor Vehicle\",\"Unknown Type of Non-Motorist\")\n",
    "Driver.set=c(\"Driver of a Motor Vehicle In-Transport\", \"Persons on Personal Conveyances\")\n",
    "Passenger.set=c(\"Occupant of a Motor Vehicle Not In- Trans\",\"Occupant of a Non-Motor Vehicle Transport\",\"Passenger of a Motor Vehicle In-Transport\")\n",
    "cars_imputed$PER_TYP=recode(cars_imputed$PER_TYP,\"Bike.set='Bike'; Bystander.set='Bystander'; Unknown.set='Unknown'; Driver.set='Driver'; Passenger.set='Passenger'\")\n",
    "\n",
    "Fatal.set=c(\"Died Prior to Crash*\", \"Fatal Injury (K)\")\n",
    "Not_Fatal.set=c(\"Injured, Severity Unknown\", \"No Apparent Injury (O)\",\"Possible Injury (C)\",\"Suspected Minor Injury(B)\",\"Suspected Serious Injury(A)\",\"Unknown\")\n",
    "cars_imputed$INJ_SEV=recode(cars_imputed$INJ_SEV,\"Fatal.set='Fatal';Not_Fatal.set='Not Fatal'\")\n",
    "\n",
    "Front.set=c(\"Front Seat, Left Side\",\"Front Seat, Middle\",\"Front Seat, Other\",\"Front Seat, Right Side\",\"Front Seat, Unknown\",\"Other Passenger in passenger\")\n",
    "Left.set=c(\"Fourth Seat, Left Side\",\"Second Seat, Left Side\",\"Third Seat, Left Side\")\n",
    "Middle.set=c(\"Fourth Seat, Middle\",\"Second Seat, Middle\",\"Third Seat, Middle\")\n",
    "Right.set=c(\"Fourth Seat, Right Side\",\"Second Seat, Right Side\",\"Third Seat, Right Side\")\n",
    "Back.set=c(\"Fourth Seat, Other\",\"Fourth Seat, Unknown\",\"Second Seat, Other\",\"Second Seat, Unknown\",\"Sleeper Section of Cab (Truc\",\"Third Seat, Other\", \"Third Seat, Unknown\",\"Other Passenger in enclosed\")\n",
    "Outside.set=c(\"Not a Motor Vehicle Occupant\",\"Not Reported\",\"Riding on Exterior of Vehicl\",\"Trailing Unit\",\"Other Passenger in unenclose\")\n",
    "cars_imputed$SEAT_POS=recode(cars_imputed$SEAT_POS,\"Front.set='Front';Left.set='Left';Middle.set='Middle';Right.set='Right';Back.set='Back';Outside.set='Outside'\")\n",
    "\n",
    "Cloudy.set=c(\"Cloud\",\"Fog,\",\"Not R\")\n",
    "Cold.set=c(\"Freez\",\"Sleet\",\"Snow\")\n",
    "cars_imputed$WEATHER=recode(cars_imputed$WEATHER,\"Cloudy.set='Cloudy';Cold.set='Cold'\")"
   ]
  },
  {
   "cell_type": "markdown",
   "metadata": {},
   "source": [
    "Graphing variables with the target"
   ]
  },
  {
   "cell_type": "code",
   "execution_count": 8,
   "metadata": {},
   "outputs": [
    {
     "data": {},
     "metadata": {},
     "output_type": "display_data"
    },
    {
     "data": {},
     "metadata": {},
     "output_type": "display_data"
    },
    {
     "data": {
      "image/png": "[encoded data removed]",
      "text/plain": [
       "plot without title"
      ]
     },
     "metadata": {},
     "output_type": "display_data",
     "source": "R display func"
    },
    {
     "data": {},
     "metadata": {},
     "output_type": "display_data"
    },
    {
     "data": {
      "image/png": "[encoded data removed]",
      "text/plain": [
       "plot without title"
      ]
     },
     "metadata": {},
     "output_type": "display_data",
     "source": "R display func"
    },
    {
     "data": {},
     "metadata": {},
     "output_type": "display_data"
    },
    {
     "data": {
      "image/png": "[encoded data removed]",
      "text/plain": [
       "plot without title"
      ]
     },
     "metadata": {},
     "output_type": "display_data",
     "source": "R display func"
    },
    {
     "data": {},
     "metadata": {},
     "output_type": "display_data"
    },
    {
     "data": {
      "image/png": "[encoded data removed]",
      "text/plain": [
       "plot without title"
      ]
     },
     "metadata": {},
     "output_type": "display_data",
     "source": "R display func"
    },
    {
     "data": {},
     "metadata": {},
     "output_type": "display_data"
    },
    {
     "data": {
      "image/png": "[encoded data removed]",
      "text/plain": [
       "plot without title"
      ]
     },
     "metadata": {},
     "output_type": "display_data",
     "source": "R display func"
    },
    {
     "data": {},
     "metadata": {},
     "output_type": "display_data"
    },
    {
     "data": {
      "image/png": "[encoded data removed]",
      "text/plain": [
       "plot without title"
      ]
     },
     "metadata": {},
     "output_type": "display_data",
     "source": "R display func"
    },
    {
     "data": {},
     "metadata": {},
     "output_type": "display_data"
    },
    {
     "data": {
      "image/png": "[encoded data removed]",
      "text/plain": [
       "plot without title"
      ]
     },
     "metadata": {},
     "output_type": "display_data",
     "source": "R display func"
    },
    {
     "data": {},
     "metadata": {},
     "output_type": "display_data"
    },
    {
     "data": {
      "image/png": "[encoded data removed]",
      "text/plain": [
       "plot without title"
      ]
     },
     "metadata": {},
     "output_type": "display_data",
     "source": "R display func"
    },
    {
     "data": {},
     "metadata": {},
     "output_type": "display_data"
    },
    {
     "data": {
      "image/png": "[encoded data removed]",
      "text/plain": [
       "plot without title"
      ]
     },
     "metadata": {},
     "output_type": "display_data",
     "source": "R display func"
    },
    {
     "data": {},
     "metadata": {},
     "output_type": "display_data"
    },
    {
     "data": {
      "image/png": "[encoded data removed]",
      "text/plain": [
       "plot without title"
      ]
     },
     "metadata": {},
     "output_type": "display_data",
     "source": "R display func"
    },
    {
     "data": {},
     "metadata": {},
     "output_type": "display_data"
    },
    {
     "data": {
      "image/png": "[encoded data removed]",
      "text/plain": [
       "plot without title"
      ]
     },
     "metadata": {},
     "output_type": "display_data",
     "source": "R display func"
    },
    {
     "data": {
      "image/png": "[encoded data removed]",
      "text/plain": [
       "plot without title"
      ]
     },
     "metadata": {},
     "output_type": "display_data",
     "source": "R display func"
    }
   ],
   "source": [
    "ggplot(data=cars_imputed)+geom_density(mapping=aes(x=AGE,color=INJ_SEV))\n",
    "ggplot(data=cars_imputed)+geom_density(mapping=aes(x=HOUR,color=INJ_SEV))\n",
    "ggplot(data=cars_imputed)+geom_density(mapping=aes(x=MOD_YEAR,color=INJ_SEV))\n",
    "ggplot(data=cars_imputed)+geom_density(mapping=aes(x=TRAV_SP,color=INJ_SEV))\n",
    "ggplot(data=cars_imputed) + geom_bar(mapping=aes(x=STATE, fill=INJ_SEV), position=\"dodge\")\n",
    "ggplot(data=cars_imputed) + geom_bar(mapping=aes(x=MONTH, fill=INJ_SEV), position=\"dodge\")\n",
    "ggplot(data=cars_imputed) + geom_bar(mapping=aes(x=SEX, fill=INJ_SEV), position=\"dodge\")\n",
    "ggplot(data=cars_imputed) + geom_bar(mapping=aes(x=SEAT_POS, fill=INJ_SEV), position=\"dodge\")\n",
    "ggplot(data=cars_imputed) + geom_bar(mapping=aes(x=DRINKING, fill=INJ_SEV), position=\"dodge\")\n",
    "ggplot(data=cars_imputed) + geom_bar(mapping=aes(x=PER_TYP, fill=INJ_SEV), position=\"dodge\")\n",
    "ggplot(data=cars_imputed) + geom_bar(mapping=aes(x=DAY_WEEK, fill=INJ_SEV), position=\"dodge\")\n",
    "ggplot(data=cars_imputed) + geom_bar(mapping=aes(x=WEATHER, fill=INJ_SEV), position=\"dodge\")"
   ]
  },
  {
   "cell_type": "markdown",
   "metadata": {},
   "source": [
    "Encoding the variables and splitting data into train and validation sets"
   ]
  },
  {
   "cell_type": "code",
   "execution_count": 9,
   "metadata": {},
   "outputs": [
    {
     "name": "stderr",
     "output_type": "stream",
     "text": [
      "Warning message in model.frame.default(Terms, newdata, na.action = na.action, xlev = object$lvls):\n",
      "\"variable 'INJ_SEV' is not a factor\""
     ]
    }
   ],
   "source": [
    "cars_sample=cars_imputed[sample(nrow(cars_imputed),1000),]\n",
    "dummies_model=dummyVars(INJ_SEV ~ ., data=cars_sample)\n",
    "trainData=predict(dummies_model, newdata = cars_sample)\n",
    "trainData= data.frame(trainData)\n",
    "trainData$INJ_SEV=cars_sample$INJ_SEV\n",
    "\n",
    "set.seed(2018)\n",
    "splitIndex=createDataPartition(trainData$INJ_SEV, p=.70, list=FALSE, times=1)\n",
    "train_cars=trainData[splitIndex,]\n",
    "test_cars=trainData[-splitIndex,]"
   ]
  },
  {
   "cell_type": "markdown",
   "metadata": {},
   "source": [
    "Building and tuning models"
   ]
  },
  {
   "cell_type": "code",
   "execution_count": 10,
   "metadata": {},
   "outputs": [
    {
     "name": "stdout",
     "output_type": "stream",
     "text": [
      "+ Fold1: cp=0.0363 \n",
      "- Fold1: cp=0.0363 \n",
      "+ Fold2: cp=0.0363 \n",
      "- Fold2: cp=0.0363 \n",
      "+ Fold3: cp=0.0363 \n",
      "- Fold3: cp=0.0363 \n",
      "+ Fold4: cp=0.0363 \n",
      "- Fold4: cp=0.0363 \n",
      "+ Fold5: cp=0.0363 \n",
      "- Fold5: cp=0.0363 \n",
      "Aggregating results\n",
      "Selecting tuning parameters\n",
      "Fitting cp = 0.0363 on full training set\n",
      "+ Fold1: mtry=1, splitrule=gini, min.node.size=1 \n",
      "- Fold1: mtry=1, splitrule=gini, min.node.size=1 \n",
      "+ Fold1: mtry=2, splitrule=gini, min.node.size=1 \n",
      "- Fold1: mtry=2, splitrule=gini, min.node.size=1 \n",
      "+ Fold1: mtry=3, splitrule=gini, min.node.size=1 \n",
      "- Fold1: mtry=3, splitrule=gini, min.node.size=1 \n",
      "+ Fold1: mtry=1, splitrule=extratrees, min.node.size=1 \n",
      "- Fold1: mtry=1, splitrule=extratrees, min.node.size=1 \n",
      "+ Fold1: mtry=2, splitrule=extratrees, min.node.size=1 \n",
      "- Fold1: mtry=2, splitrule=extratrees, min.node.size=1 \n",
      "+ Fold1: mtry=3, splitrule=extratrees, min.node.size=1 \n",
      "- Fold1: mtry=3, splitrule=extratrees, min.node.size=1 \n",
      "+ Fold1: mtry=1, splitrule=gini, min.node.size=2 \n",
      "- Fold1: mtry=1, splitrule=gini, min.node.size=2 \n",
      "+ Fold1: mtry=2, splitrule=gini, min.node.size=2 \n",
      "- Fold1: mtry=2, splitrule=gini, min.node.size=2 \n",
      "+ Fold1: mtry=3, splitrule=gini, min.node.size=2 \n",
      "- Fold1: mtry=3, splitrule=gini, min.node.size=2 \n",
      "+ Fold1: mtry=1, splitrule=extratrees, min.node.size=2 \n",
      "- Fold1: mtry=1, splitrule=extratrees, min.node.size=2 \n",
      "+ Fold1: mtry=2, splitrule=extratrees, min.node.size=2 \n",
      "- Fold1: mtry=2, splitrule=extratrees, min.node.size=2 \n",
      "+ Fold1: mtry=3, splitrule=extratrees, min.node.size=2 \n",
      "- Fold1: mtry=3, splitrule=extratrees, min.node.size=2 \n",
      "+ Fold1: mtry=1, splitrule=gini, min.node.size=3 \n",
      "- Fold1: mtry=1, splitrule=gini, min.node.size=3 \n",
      "+ Fold1: mtry=2, splitrule=gini, min.node.size=3 \n",
      "- Fold1: mtry=2, splitrule=gini, min.node.size=3 \n",
      "+ Fold1: mtry=3, splitrule=gini, min.node.size=3 \n",
      "- Fold1: mtry=3, splitrule=gini, min.node.size=3 \n",
      "+ Fold1: mtry=1, splitrule=extratrees, min.node.size=3 \n",
      "- Fold1: mtry=1, splitrule=extratrees, min.node.size=3 \n",
      "+ Fold1: mtry=2, splitrule=extratrees, min.node.size=3 \n",
      "- Fold1: mtry=2, splitrule=extratrees, min.node.size=3 \n",
      "+ Fold1: mtry=3, splitrule=extratrees, min.node.size=3 \n",
      "- Fold1: mtry=3, splitrule=extratrees, min.node.size=3 \n",
      "+ Fold1: mtry=1, splitrule=gini, min.node.size=4 \n",
      "- Fold1: mtry=1, splitrule=gini, min.node.size=4 \n",
      "+ Fold1: mtry=2, splitrule=gini, min.node.size=4 \n",
      "- Fold1: mtry=2, splitrule=gini, min.node.size=4 \n",
      "+ Fold1: mtry=3, splitrule=gini, min.node.size=4 \n",
      "- Fold1: mtry=3, splitrule=gini, min.node.size=4 \n",
      "+ Fold1: mtry=1, splitrule=extratrees, min.node.size=4 \n",
      "- Fold1: mtry=1, splitrule=extratrees, min.node.size=4 \n",
      "+ Fold1: mtry=2, splitrule=extratrees, min.node.size=4 \n",
      "- Fold1: mtry=2, splitrule=extratrees, min.node.size=4 \n",
      "+ Fold1: mtry=3, splitrule=extratrees, min.node.size=4 \n",
      "- Fold1: mtry=3, splitrule=extratrees, min.node.size=4 \n",
      "+ Fold2: mtry=1, splitrule=gini, min.node.size=1 \n",
      "- Fold2: mtry=1, splitrule=gini, min.node.size=1 \n",
      "+ Fold2: mtry=2, splitrule=gini, min.node.size=1 \n",
      "- Fold2: mtry=2, splitrule=gini, min.node.size=1 \n",
      "+ Fold2: mtry=3, splitrule=gini, min.node.size=1 \n",
      "- Fold2: mtry=3, splitrule=gini, min.node.size=1 \n",
      "+ Fold2: mtry=1, splitrule=extratrees, min.node.size=1 \n",
      "- Fold2: mtry=1, splitrule=extratrees, min.node.size=1 \n",
      "+ Fold2: mtry=2, splitrule=extratrees, min.node.size=1 \n",
      "- Fold2: mtry=2, splitrule=extratrees, min.node.size=1 \n",
      "+ Fold2: mtry=3, splitrule=extratrees, min.node.size=1 \n",
      "- Fold2: mtry=3, splitrule=extratrees, min.node.size=1 \n",
      "+ Fold2: mtry=1, splitrule=gini, min.node.size=2 \n",
      "- Fold2: mtry=1, splitrule=gini, min.node.size=2 \n",
      "+ Fold2: mtry=2, splitrule=gini, min.node.size=2 \n",
      "- Fold2: mtry=2, splitrule=gini, min.node.size=2 \n",
      "+ Fold2: mtry=3, splitrule=gini, min.node.size=2 \n",
      "- Fold2: mtry=3, splitrule=gini, min.node.size=2 \n",
      "+ Fold2: mtry=1, splitrule=extratrees, min.node.size=2 \n",
      "- Fold2: mtry=1, splitrule=extratrees, min.node.size=2 \n",
      "+ Fold2: mtry=2, splitrule=extratrees, min.node.size=2 \n",
      "- Fold2: mtry=2, splitrule=extratrees, min.node.size=2 \n",
      "+ Fold2: mtry=3, splitrule=extratrees, min.node.size=2 \n",
      "- Fold2: mtry=3, splitrule=extratrees, min.node.size=2 \n",
      "+ Fold2: mtry=1, splitrule=gini, min.node.size=3 \n",
      "- Fold2: mtry=1, splitrule=gini, min.node.size=3 \n",
      "+ Fold2: mtry=2, splitrule=gini, min.node.size=3 \n",
      "- Fold2: mtry=2, splitrule=gini, min.node.size=3 \n",
      "+ Fold2: mtry=3, splitrule=gini, min.node.size=3 \n",
      "- Fold2: mtry=3, splitrule=gini, min.node.size=3 \n",
      "+ Fold2: mtry=1, splitrule=extratrees, min.node.size=3 \n",
      "- Fold2: mtry=1, splitrule=extratrees, min.node.size=3 \n",
      "+ Fold2: mtry=2, splitrule=extratrees, min.node.size=3 \n",
      "- Fold2: mtry=2, splitrule=extratrees, min.node.size=3 \n",
      "+ Fold2: mtry=3, splitrule=extratrees, min.node.size=3 \n",
      "- Fold2: mtry=3, splitrule=extratrees, min.node.size=3 \n",
      "+ Fold2: mtry=1, splitrule=gini, min.node.size=4 \n",
      "- Fold2: mtry=1, splitrule=gini, min.node.size=4 \n",
      "+ Fold2: mtry=2, splitrule=gini, min.node.size=4 \n",
      "- Fold2: mtry=2, splitrule=gini, min.node.size=4 \n",
      "+ Fold2: mtry=3, splitrule=gini, min.node.size=4 \n",
      "- Fold2: mtry=3, splitrule=gini, min.node.size=4 \n",
      "+ Fold2: mtry=1, splitrule=extratrees, min.node.size=4 \n",
      "- Fold2: mtry=1, splitrule=extratrees, min.node.size=4 \n",
      "+ Fold2: mtry=2, splitrule=extratrees, min.node.size=4 \n",
      "- Fold2: mtry=2, splitrule=extratrees, min.node.size=4 \n",
      "+ Fold2: mtry=3, splitrule=extratrees, min.node.size=4 \n",
      "- Fold2: mtry=3, splitrule=extratrees, min.node.size=4 \n",
      "+ Fold3: mtry=1, splitrule=gini, min.node.size=1 \n",
      "- Fold3: mtry=1, splitrule=gini, min.node.size=1 \n",
      "+ Fold3: mtry=2, splitrule=gini, min.node.size=1 \n",
      "- Fold3: mtry=2, splitrule=gini, min.node.size=1 \n",
      "+ Fold3: mtry=3, splitrule=gini, min.node.size=1 \n",
      "- Fold3: mtry=3, splitrule=gini, min.node.size=1 \n",
      "+ Fold3: mtry=1, splitrule=extratrees, min.node.size=1 \n",
      "- Fold3: mtry=1, splitrule=extratrees, min.node.size=1 \n",
      "+ Fold3: mtry=2, splitrule=extratrees, min.node.size=1 \n",
      "- Fold3: mtry=2, splitrule=extratrees, min.node.size=1 \n",
      "+ Fold3: mtry=3, splitrule=extratrees, min.node.size=1 \n",
      "- Fold3: mtry=3, splitrule=extratrees, min.node.size=1 \n",
      "+ Fold3: mtry=1, splitrule=gini, min.node.size=2 \n",
      "- Fold3: mtry=1, splitrule=gini, min.node.size=2 \n",
      "+ Fold3: mtry=2, splitrule=gini, min.node.size=2 \n",
      "- Fold3: mtry=2, splitrule=gini, min.node.size=2 \n",
      "+ Fold3: mtry=3, splitrule=gini, min.node.size=2 \n",
      "- Fold3: mtry=3, splitrule=gini, min.node.size=2 \n",
      "+ Fold3: mtry=1, splitrule=extratrees, min.node.size=2 \n",
      "- Fold3: mtry=1, splitrule=extratrees, min.node.size=2 \n",
      "+ Fold3: mtry=2, splitrule=extratrees, min.node.size=2 \n",
      "- Fold3: mtry=2, splitrule=extratrees, min.node.size=2 \n",
      "+ Fold3: mtry=3, splitrule=extratrees, min.node.size=2 \n",
      "- Fold3: mtry=3, splitrule=extratrees, min.node.size=2 \n",
      "+ Fold3: mtry=1, splitrule=gini, min.node.size=3 \n",
      "- Fold3: mtry=1, splitrule=gini, min.node.size=3 \n",
      "+ Fold3: mtry=2, splitrule=gini, min.node.size=3 \n",
      "- Fold3: mtry=2, splitrule=gini, min.node.size=3 \n",
      "+ Fold3: mtry=3, splitrule=gini, min.node.size=3 \n",
      "- Fold3: mtry=3, splitrule=gini, min.node.size=3 \n",
      "+ Fold3: mtry=1, splitrule=extratrees, min.node.size=3 \n",
      "- Fold3: mtry=1, splitrule=extratrees, min.node.size=3 \n",
      "+ Fold3: mtry=2, splitrule=extratrees, min.node.size=3 \n",
      "- Fold3: mtry=2, splitrule=extratrees, min.node.size=3 \n",
      "+ Fold3: mtry=3, splitrule=extratrees, min.node.size=3 \n",
      "- Fold3: mtry=3, splitrule=extratrees, min.node.size=3 \n",
      "+ Fold3: mtry=1, splitrule=gini, min.node.size=4 \n",
      "- Fold3: mtry=1, splitrule=gini, min.node.size=4 \n",
      "+ Fold3: mtry=2, splitrule=gini, min.node.size=4 \n",
      "- Fold3: mtry=2, splitrule=gini, min.node.size=4 \n",
      "+ Fold3: mtry=3, splitrule=gini, min.node.size=4 \n",
      "- Fold3: mtry=3, splitrule=gini, min.node.size=4 \n",
      "+ Fold3: mtry=1, splitrule=extratrees, min.node.size=4 \n",
      "- Fold3: mtry=1, splitrule=extratrees, min.node.size=4 \n",
      "+ Fold3: mtry=2, splitrule=extratrees, min.node.size=4 \n",
      "- Fold3: mtry=2, splitrule=extratrees, min.node.size=4 \n",
      "+ Fold3: mtry=3, splitrule=extratrees, min.node.size=4 \n",
      "- Fold3: mtry=3, splitrule=extratrees, min.node.size=4 \n",
      "+ Fold4: mtry=1, splitrule=gini, min.node.size=1 \n",
      "- Fold4: mtry=1, splitrule=gini, min.node.size=1 \n",
      "+ Fold4: mtry=2, splitrule=gini, min.node.size=1 \n",
      "- Fold4: mtry=2, splitrule=gini, min.node.size=1 \n",
      "+ Fold4: mtry=3, splitrule=gini, min.node.size=1 \n",
      "- Fold4: mtry=3, splitrule=gini, min.node.size=1 \n",
      "+ Fold4: mtry=1, splitrule=extratrees, min.node.size=1 \n",
      "- Fold4: mtry=1, splitrule=extratrees, min.node.size=1 \n",
      "+ Fold4: mtry=2, splitrule=extratrees, min.node.size=1 \n",
      "- Fold4: mtry=2, splitrule=extratrees, min.node.size=1 \n",
      "+ Fold4: mtry=3, splitrule=extratrees, min.node.size=1 \n",
      "- Fold4: mtry=3, splitrule=extratrees, min.node.size=1 \n",
      "+ Fold4: mtry=1, splitrule=gini, min.node.size=2 \n",
      "- Fold4: mtry=1, splitrule=gini, min.node.size=2 \n",
      "+ Fold4: mtry=2, splitrule=gini, min.node.size=2 \n",
      "- Fold4: mtry=2, splitrule=gini, min.node.size=2 \n",
      "+ Fold4: mtry=3, splitrule=gini, min.node.size=2 \n",
      "- Fold4: mtry=3, splitrule=gini, min.node.size=2 \n",
      "+ Fold4: mtry=1, splitrule=extratrees, min.node.size=2 \n",
      "- Fold4: mtry=1, splitrule=extratrees, min.node.size=2 \n",
      "+ Fold4: mtry=2, splitrule=extratrees, min.node.size=2 \n",
      "- Fold4: mtry=2, splitrule=extratrees, min.node.size=2 \n",
      "+ Fold4: mtry=3, splitrule=extratrees, min.node.size=2 \n",
      "- Fold4: mtry=3, splitrule=extratrees, min.node.size=2 \n",
      "+ Fold4: mtry=1, splitrule=gini, min.node.size=3 \n",
      "- Fold4: mtry=1, splitrule=gini, min.node.size=3 \n",
      "+ Fold4: mtry=2, splitrule=gini, min.node.size=3 \n",
      "- Fold4: mtry=2, splitrule=gini, min.node.size=3 \n",
      "+ Fold4: mtry=3, splitrule=gini, min.node.size=3 \n",
      "- Fold4: mtry=3, splitrule=gini, min.node.size=3 \n",
      "+ Fold4: mtry=1, splitrule=extratrees, min.node.size=3 \n",
      "- Fold4: mtry=1, splitrule=extratrees, min.node.size=3 \n",
      "+ Fold4: mtry=2, splitrule=extratrees, min.node.size=3 \n",
      "- Fold4: mtry=2, splitrule=extratrees, min.node.size=3 \n",
      "+ Fold4: mtry=3, splitrule=extratrees, min.node.size=3 \n",
      "- Fold4: mtry=3, splitrule=extratrees, min.node.size=3 \n",
      "+ Fold4: mtry=1, splitrule=gini, min.node.size=4 \n",
      "- Fold4: mtry=1, splitrule=gini, min.node.size=4 \n",
      "+ Fold4: mtry=2, splitrule=gini, min.node.size=4 \n",
      "- Fold4: mtry=2, splitrule=gini, min.node.size=4 \n",
      "+ Fold4: mtry=3, splitrule=gini, min.node.size=4 \n",
      "- Fold4: mtry=3, splitrule=gini, min.node.size=4 \n",
      "+ Fold4: mtry=1, splitrule=extratrees, min.node.size=4 \n",
      "- Fold4: mtry=1, splitrule=extratrees, min.node.size=4 \n",
      "+ Fold4: mtry=2, splitrule=extratrees, min.node.size=4 \n",
      "- Fold4: mtry=2, splitrule=extratrees, min.node.size=4 \n",
      "+ Fold4: mtry=3, splitrule=extratrees, min.node.size=4 \n",
      "- Fold4: mtry=3, splitrule=extratrees, min.node.size=4 \n",
      "+ Fold5: mtry=1, splitrule=gini, min.node.size=1 \n",
      "- Fold5: mtry=1, splitrule=gini, min.node.size=1 \n",
      "+ Fold5: mtry=2, splitrule=gini, min.node.size=1 \n",
      "- Fold5: mtry=2, splitrule=gini, min.node.size=1 \n",
      "+ Fold5: mtry=3, splitrule=gini, min.node.size=1 \n",
      "- Fold5: mtry=3, splitrule=gini, min.node.size=1 \n",
      "+ Fold5: mtry=1, splitrule=extratrees, min.node.size=1 \n",
      "- Fold5: mtry=1, splitrule=extratrees, min.node.size=1 \n",
      "+ Fold5: mtry=2, splitrule=extratrees, min.node.size=1 \n",
      "- Fold5: mtry=2, splitrule=extratrees, min.node.size=1 \n",
      "+ Fold5: mtry=3, splitrule=extratrees, min.node.size=1 \n",
      "- Fold5: mtry=3, splitrule=extratrees, min.node.size=1 \n",
      "+ Fold5: mtry=1, splitrule=gini, min.node.size=2 \n",
      "- Fold5: mtry=1, splitrule=gini, min.node.size=2 \n",
      "+ Fold5: mtry=2, splitrule=gini, min.node.size=2 \n",
      "- Fold5: mtry=2, splitrule=gini, min.node.size=2 \n",
      "+ Fold5: mtry=3, splitrule=gini, min.node.size=2 \n",
      "- Fold5: mtry=3, splitrule=gini, min.node.size=2 \n",
      "+ Fold5: mtry=1, splitrule=extratrees, min.node.size=2 \n",
      "- Fold5: mtry=1, splitrule=extratrees, min.node.size=2 \n",
      "+ Fold5: mtry=2, splitrule=extratrees, min.node.size=2 \n",
      "- Fold5: mtry=2, splitrule=extratrees, min.node.size=2 \n",
      "+ Fold5: mtry=3, splitrule=extratrees, min.node.size=2 \n",
      "- Fold5: mtry=3, splitrule=extratrees, min.node.size=2 \n",
      "+ Fold5: mtry=1, splitrule=gini, min.node.size=3 \n",
      "- Fold5: mtry=1, splitrule=gini, min.node.size=3 \n",
      "+ Fold5: mtry=2, splitrule=gini, min.node.size=3 \n",
      "- Fold5: mtry=2, splitrule=gini, min.node.size=3 \n",
      "+ Fold5: mtry=3, splitrule=gini, min.node.size=3 \n",
      "- Fold5: mtry=3, splitrule=gini, min.node.size=3 \n",
      "+ Fold5: mtry=1, splitrule=extratrees, min.node.size=3 \n",
      "- Fold5: mtry=1, splitrule=extratrees, min.node.size=3 \n",
      "+ Fold5: mtry=2, splitrule=extratrees, min.node.size=3 \n",
      "- Fold5: mtry=2, splitrule=extratrees, min.node.size=3 \n",
      "+ Fold5: mtry=3, splitrule=extratrees, min.node.size=3 \n",
      "- Fold5: mtry=3, splitrule=extratrees, min.node.size=3 \n",
      "+ Fold5: mtry=1, splitrule=gini, min.node.size=4 \n",
      "- Fold5: mtry=1, splitrule=gini, min.node.size=4 \n",
      "+ Fold5: mtry=2, splitrule=gini, min.node.size=4 \n",
      "- Fold5: mtry=2, splitrule=gini, min.node.size=4 \n",
      "+ Fold5: mtry=3, splitrule=gini, min.node.size=4 \n",
      "- Fold5: mtry=3, splitrule=gini, min.node.size=4 \n",
      "+ Fold5: mtry=1, splitrule=extratrees, min.node.size=4 \n",
      "- Fold5: mtry=1, splitrule=extratrees, min.node.size=4 \n",
      "+ Fold5: mtry=2, splitrule=extratrees, min.node.size=4 \n",
      "- Fold5: mtry=2, splitrule=extratrees, min.node.size=4 \n",
      "+ Fold5: mtry=3, splitrule=extratrees, min.node.size=4 \n",
      "- Fold5: mtry=3, splitrule=extratrees, min.node.size=4 \n",
      "Aggregating results\n",
      "Selecting tuning parameters\n",
      "Fitting mtry = 3, splitrule = gini, min.node.size = 2 on full training set\n",
      "+ Fold01: cp=0.0363 \n",
      "- Fold01: cp=0.0363 \n",
      "+ Fold02: cp=0.0363 \n",
      "- Fold02: cp=0.0363 \n",
      "+ Fold03: cp=0.0363 \n",
      "- Fold03: cp=0.0363 \n",
      "+ Fold04: cp=0.0363 \n",
      "- Fold04: cp=0.0363 \n",
      "+ Fold05: cp=0.0363 \n",
      "- Fold05: cp=0.0363 \n",
      "+ Fold06: cp=0.0363 \n",
      "- Fold06: cp=0.0363 \n",
      "+ Fold07: cp=0.0363 \n",
      "- Fold07: cp=0.0363 \n",
      "+ Fold08: cp=0.0363 \n",
      "- Fold08: cp=0.0363 \n",
      "+ Fold09: cp=0.0363 \n",
      "- Fold09: cp=0.0363 \n",
      "+ Fold10: cp=0.0363 \n",
      "- Fold10: cp=0.0363 \n",
      "Aggregating results\n",
      "Selecting tuning parameters\n",
      "Fitting cp = 0.0363 on full training set\n",
      "+ Fold01: mtry=2, splitrule=gini, min.node.size=1 \n",
      "- Fold01: mtry=2, splitrule=gini, min.node.size=1 \n",
      "+ Fold01: mtry=2, splitrule=gini, min.node.size=2 \n",
      "- Fold01: mtry=2, splitrule=gini, min.node.size=2 \n",
      "+ Fold01: mtry=2, splitrule=gini, min.node.size=3 \n",
      "- Fold01: mtry=2, splitrule=gini, min.node.size=3 \n",
      "+ Fold02: mtry=2, splitrule=gini, min.node.size=1 \n",
      "- Fold02: mtry=2, splitrule=gini, min.node.size=1 \n",
      "+ Fold02: mtry=2, splitrule=gini, min.node.size=2 \n",
      "- Fold02: mtry=2, splitrule=gini, min.node.size=2 \n",
      "+ Fold02: mtry=2, splitrule=gini, min.node.size=3 \n",
      "- Fold02: mtry=2, splitrule=gini, min.node.size=3 \n",
      "+ Fold03: mtry=2, splitrule=gini, min.node.size=1 \n",
      "- Fold03: mtry=2, splitrule=gini, min.node.size=1 \n",
      "+ Fold03: mtry=2, splitrule=gini, min.node.size=2 \n",
      "- Fold03: mtry=2, splitrule=gini, min.node.size=2 \n",
      "+ Fold03: mtry=2, splitrule=gini, min.node.size=3 \n",
      "- Fold03: mtry=2, splitrule=gini, min.node.size=3 \n",
      "+ Fold04: mtry=2, splitrule=gini, min.node.size=1 \n",
      "- Fold04: mtry=2, splitrule=gini, min.node.size=1 \n",
      "+ Fold04: mtry=2, splitrule=gini, min.node.size=2 \n",
      "- Fold04: mtry=2, splitrule=gini, min.node.size=2 \n",
      "+ Fold04: mtry=2, splitrule=gini, min.node.size=3 \n",
      "- Fold04: mtry=2, splitrule=gini, min.node.size=3 \n",
      "+ Fold05: mtry=2, splitrule=gini, min.node.size=1 \n",
      "- Fold05: mtry=2, splitrule=gini, min.node.size=1 \n",
      "+ Fold05: mtry=2, splitrule=gini, min.node.size=2 \n",
      "- Fold05: mtry=2, splitrule=gini, min.node.size=2 \n",
      "+ Fold05: mtry=2, splitrule=gini, min.node.size=3 \n",
      "- Fold05: mtry=2, splitrule=gini, min.node.size=3 \n",
      "+ Fold06: mtry=2, splitrule=gini, min.node.size=1 \n",
      "- Fold06: mtry=2, splitrule=gini, min.node.size=1 \n",
      "+ Fold06: mtry=2, splitrule=gini, min.node.size=2 \n",
      "- Fold06: mtry=2, splitrule=gini, min.node.size=2 \n",
      "+ Fold06: mtry=2, splitrule=gini, min.node.size=3 \n",
      "- Fold06: mtry=2, splitrule=gini, min.node.size=3 \n",
      "+ Fold07: mtry=2, splitrule=gini, min.node.size=1 \n",
      "- Fold07: mtry=2, splitrule=gini, min.node.size=1 \n",
      "+ Fold07: mtry=2, splitrule=gini, min.node.size=2 \n",
      "- Fold07: mtry=2, splitrule=gini, min.node.size=2 \n",
      "+ Fold07: mtry=2, splitrule=gini, min.node.size=3 \n",
      "- Fold07: mtry=2, splitrule=gini, min.node.size=3 \n",
      "+ Fold08: mtry=2, splitrule=gini, min.node.size=1 \n",
      "- Fold08: mtry=2, splitrule=gini, min.node.size=1 \n",
      "+ Fold08: mtry=2, splitrule=gini, min.node.size=2 \n",
      "- Fold08: mtry=2, splitrule=gini, min.node.size=2 \n",
      "+ Fold08: mtry=2, splitrule=gini, min.node.size=3 \n",
      "- Fold08: mtry=2, splitrule=gini, min.node.size=3 \n",
      "+ Fold09: mtry=2, splitrule=gini, min.node.size=1 \n",
      "- Fold09: mtry=2, splitrule=gini, min.node.size=1 \n",
      "+ Fold09: mtry=2, splitrule=gini, min.node.size=2 \n",
      "- Fold09: mtry=2, splitrule=gini, min.node.size=2 \n",
      "+ Fold09: mtry=2, splitrule=gini, min.node.size=3 \n",
      "- Fold09: mtry=2, splitrule=gini, min.node.size=3 \n",
      "+ Fold10: mtry=2, splitrule=gini, min.node.size=1 \n",
      "- Fold10: mtry=2, splitrule=gini, min.node.size=1 \n",
      "+ Fold10: mtry=2, splitrule=gini, min.node.size=2 \n",
      "- Fold10: mtry=2, splitrule=gini, min.node.size=2 \n",
      "+ Fold10: mtry=2, splitrule=gini, min.node.size=3 \n",
      "- Fold10: mtry=2, splitrule=gini, min.node.size=3 \n",
      "Aggregating results\n",
      "Selecting tuning parameters\n",
      "Fitting mtry = 2, splitrule = gini, min.node.size = 3 on full training set\n"
     ]
    }
   ],
   "source": [
    "tree1=train(INJ_SEV~.,data=train_cars,method=\"rpart\")\n",
    "forest1=train(INJ_SEV~.,data=train_cars,method=\"ranger\")\n",
    "\n",
    "myGrid=expand.grid(mtry=c(1:3),splitrule=c(\"gini\",\"extratrees\"),min.node.size=c(1:4))\n",
    "myTrain=trainControl(method =\"cv\", number = 5, verboseIter = TRUE)\n",
    "\n",
    "tree2=train(INJ_SEV~.,data=train_cars,method=\"rpart\",trControl=myTrain)\n",
    "forest2=train(INJ_SEV~.,data=train_cars,method=\"ranger\",trControl=myTrain,tuneGrid=myGrid)\n",
    "\n",
    "myGrid2=expand.grid(mtry=2,splitrule=\"gini\",min.node.size=c(1:3))\n",
    "myTrain2=trainControl(method =\"cv\", number = 10, verboseIter = TRUE)\n",
    "\n",
    "tree3=train(INJ_SEV~.,data=train_cars,method=\"rpart\",trControl=myTrain2)\n",
    "forest3=train(INJ_SEV~.,data=train_cars,method=\"ranger\",trControl=myTrain2,tuneGrid=myGrid2)\n",
    "\n",
    "myGrid3=expand.grid(.alpha=0:1,.lambda=seq(0.001,1,length=10))\n",
    "\n",
    "glm=train(INJ_SEV~.,data=train_cars, method=\"glmnet\")\n",
    "glm2=train(INJ_SEV~.,data=train_cars, method=\"glmnet\", tuneGrid=myGrid3)"
   ]
  },
  {
   "cell_type": "markdown",
   "metadata": {},
   "source": [
    "Comparing model performance on testing data and pulling out the model with the highest balanced accuracy score"
   ]
  },
  {
   "cell_type": "code",
   "execution_count": 11,
   "metadata": {},
   "outputs": [
    {
     "data": {
      "text/plain": [
       "Random Forest \n",
       "\n",
       "701 samples\n",
       " 95 predictor\n",
       "  2 classes: 'Fatal', 'Not Fatal' \n",
       "\n",
       "No pre-processing\n",
       "Resampling: Bootstrapped (25 reps) \n",
       "Summary of sample sizes: 701, 701, 701, 701, 701, 701, ... \n",
       "Resampling results across tuning parameters:\n",
       "\n",
       "  mtry  splitrule   Accuracy   Kappa    \n",
       "   2    gini        0.6711650  0.2734325\n",
       "   2    extratrees  0.6680849  0.2643936\n",
       "  48    gini        0.7231675  0.4261277\n",
       "  48    extratrees  0.7074592  0.3957860\n",
       "  95    gini        0.7097087  0.4006938\n",
       "  95    extratrees  0.7008886  0.3836815\n",
       "\n",
       "Tuning parameter 'min.node.size' was held constant at a value of 1\n",
       "Accuracy was used to select the optimal model using the largest value.\n",
       "The final values used for the model were mtry = 48, splitrule = gini\n",
       " and min.node.size = 1."
      ]
     },
     "metadata": {},
     "output_type": "display_data"
    },
    {
     "data": {
      "text/html": [
       "0.71890104879161"
      ],
      "text/latex": [
       "0.71890104879161"
      ],
      "text/markdown": [
       "0.71890104879161"
      ],
      "text/plain": [
       "[1] 0.718901"
      ]
     },
     "metadata": {},
     "output_type": "display_data"
    }
   ],
   "source": [
    "models=list(tree1,forest1,tree2,forest2,tree3,forest3,glm,glm2)\n",
    "compare=c()\n",
    "prediction=function(x){\n",
    "  pred=predict(x,test_cars)\n",
    "  cm=confusionMatrix(pred,test_cars$INJ_SEV,positive=\"Not Fatal\")\n",
    "  compare=c(compare,cm$byClass['Balanced Accuracy'])\n",
    "}\n",
    "\n",
    "accuracies=sapply(models,prediction)\n",
    "best=max(accuracies)\n",
    "index=match(best,accuracies)\n",
    "models[[index]]\n",
    "best"
   ]
  },
  {
   "cell_type": "code",
   "execution_count": null,
   "metadata": {},
   "outputs": [],
   "source": []
  }
 ],
 "metadata": {
  "kernelspec": {
   "display_name": "R",
   "language": "R",
   "name": "ir"
  },
  "language_info": {
   "codemirror_mode": "r",
   "file_extension": ".r",
   "mimetype": "text/x-r-source",
   "name": "R",
   "pygments_lexer": "r",
   "version": "3.5.1"
  }
 },
 "nbformat": 4,
 "nbformat_minor": 2
}
